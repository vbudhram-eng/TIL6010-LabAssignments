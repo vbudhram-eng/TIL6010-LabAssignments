{
 "cells": [
  {
   "cell_type": "code",
   "execution_count": 9,
   "id": "2e0e475c-483e-46d1-81e1-e4880d799f22",
   "metadata": {},
   "outputs": [],
   "source": [
    "import pandas as pd\n",
    "import plotly.express as px\n",
    "import seaborn as sns\n",
    "import matplotlib.pyplot as plt\n",
    "import plotly.io as pio\n",
    "import plotly.graph_objs as go\n",
    "from plotly.subplots import make_subplots"
   ]
  },
  {
   "cell_type": "code",
   "execution_count": 22,
   "id": "2f3e7c48-9608-43f8-9f93-797bae8b74ca",
   "metadata": {},
   "outputs": [
    {
     "data": {
      "text/plain": [
       "'\\nYOU WILL HAVE TO CHANGE THE FILE PATH TO WORK ON THE FILE SO ON EACH COMPUTER, AS THIS IS TO FOR MY COMPUTER.\\n\\n'"
      ]
     },
     "execution_count": 22,
     "metadata": {},
     "output_type": "execute_result"
    }
   ],
   "source": [
    "\"\"\"\n",
    "YOU WILL HAVE TO CHANGE THE FILE PATH TO WORK ON THE FILE SO ON EACH COMPUTER, AS THIS IS TO FOR MY COMPUTER.\n",
    "\n",
    "\"\"\""
   ]
  },
  {
   "cell_type": "code",
   "execution_count": 7,
   "id": "b6fea1ce-92c0-484e-8c29-e726f4a9a10b",
   "metadata": {},
   "outputs": [
    {
     "name": "stdout",
     "output_type": "stream",
     "text": [
      "      ID   Periods      Month  Year             Airport  \\\n",
      "274  711  2015MM01    January  2015  Amsterdam Schiphol   \n",
      "275  712  2015MM02   February  2015  Amsterdam Schiphol   \n",
      "276  713  2015MM03      March  2015  Amsterdam Schiphol   \n",
      "277  714  2015KW01         Q1  2015  Amsterdam Schiphol   \n",
      "278  715  2015MM04      April  2015  Amsterdam Schiphol   \n",
      "279  716  2015MM05        May  2015  Amsterdam Schiphol   \n",
      "280  717  2015MM06       June  2015  Amsterdam Schiphol   \n",
      "281  718  2015KW02         Q2  2015  Amsterdam Schiphol   \n",
      "282  719  2015MM07       July  2015  Amsterdam Schiphol   \n",
      "283  720  2015MM08     August  2015  Amsterdam Schiphol   \n",
      "284  721  2015MM09  September  2015  Amsterdam Schiphol   \n",
      "285  722  2015KW03         Q3  2015  Amsterdam Schiphol   \n",
      "286  723  2015MM10    October  2015  Amsterdam Schiphol   \n",
      "287  724  2015MM11   November  2015  Amsterdam Schiphol   \n",
      "288  725  2015MM12   December  2015  Amsterdam Schiphol   \n",
      "289  726  2015KW04         Q4  2015  Amsterdam Schiphol   \n",
      "290  727  2015JJ00       2015  2015  Amsterdam Schiphol   \n",
      "291  728  2016MM01    January  2016  Amsterdam Schiphol   \n",
      "292  729  2016MM02   February  2016  Amsterdam Schiphol   \n",
      "293  730  2016MM03      March  2016  Amsterdam Schiphol   \n",
      "\n",
      "     CrossCountryFlights_1  TotalFlights_3  Scheduled_4  NonScheduled_5  \\\n",
      "274                  32746           32032        30877            1155   \n",
      "275                  31365           30607        29457            1150   \n",
      "276                  35498           34599        33385            1214   \n",
      "277                  99609           97238        93719            3519   \n",
      "278                  38460           37602        35824            1778   \n",
      "279                  42132           41072        38046            3026   \n",
      "280                  41273           40066        37419            2647   \n",
      "281                 121865          118740       111289            7451   \n",
      "282                  43503           42494        38460            4034   \n",
      "283                  43212           42339        38216            4123   \n",
      "284                  41616           40558        37863            2695   \n",
      "285                 128331          125391       114539           10852   \n",
      "286                  41305           40241        37944            2297   \n",
      "287                  35487           34454        33509             945   \n",
      "288                  35520           34609        33745             864   \n",
      "289                 112312          109304       105198            4106   \n",
      "290                 462117          450673       424745           25928   \n",
      "291                  34003           33151        32373             778   \n",
      "292                  33832           32959        32156             803   \n",
      "293                  37962           36903        36011             892   \n",
      "\n",
      "     TotalArrivalsFlights_6  ...  SouthAfrica_31  America_32  NorthAmerica_33  \\\n",
      "274                   15985  ...           35236      602564           373946   \n",
      "275                   15298  ...           32298      506992           308215   \n",
      "276                   17310  ...           36760      622212           402484   \n",
      "277                   48593  ...          104294     1731768          1084645   \n",
      "278                   18797  ...           30125      697454           485299   \n",
      "279                   20535  ...           29268      801872           579116   \n",
      "280                   20035  ...           29311      831330           608987   \n",
      "281                   59367  ...           88704     2330656          1673402   \n",
      "282                   21239  ...           31270      872530           626486   \n",
      "283                   21176  ...           33186      893391           648241   \n",
      "284                   20286  ...           30427      836065           603797   \n",
      "285                   62701  ...           94883     2601986          1878524   \n",
      "286                   20108  ...           32800      796260           566462   \n",
      "287                   17243  ...           36809      619611           400208   \n",
      "288                   17313  ...           38694      656486           418629   \n",
      "289                   54664  ...          108303     2072357          1385299   \n",
      "290                  225325  ...          396184     8736767          6021870   \n",
      "291                   16567  ...           38561      634604           384878   \n",
      "292                   16478  ...           35803      550982           330153   \n",
      "293                   18447  ...           37751      679550           444948   \n",
      "\n",
      "     CentralAmerica_34  SouthAmerica_35  Asia_36  WestAsia_37  \\\n",
      "274             121244           107374   493745       149103   \n",
      "275             106749            92028   443474       134920   \n",
      "276             115104           104624   490769       148450   \n",
      "277             343097           304026  1427988       432473   \n",
      "278             105630           106525   497190       159174   \n",
      "279             108063           114693   493971       155701   \n",
      "280             106304           116039   507478       157569   \n",
      "281             319997           337257  1498639       472444   \n",
      "282             121865           124179   597320       193608   \n",
      "283             121228           123922   626311       210165   \n",
      "284             110657           121611   545266       170257   \n",
      "285             353750           369712  1768897       574030   \n",
      "286             113169           116629   544140       181221   \n",
      "287             113575           105828   485474       171160   \n",
      "288             121675           116182   502158       185041   \n",
      "289             348419           338639  1531772       537422   \n",
      "290            1365263          1349634  6227296      2016369   \n",
      "291             126959           122767   516877       177586   \n",
      "292             115781           105048   469137       168834   \n",
      "293             122567           112035   525372       197696   \n",
      "\n",
      "     SouthEastAsia_38  NorthEastAsia_39  Oceania_40  \n",
      "274            176454            168188           0  \n",
      "275            151836            156718           0  \n",
      "276            157953            184366           0  \n",
      "277            486243            509272           0  \n",
      "278            140795            197221           0  \n",
      "279            141172            197098           0  \n",
      "280            138453            211456           0  \n",
      "281            420420            605775           0  \n",
      "282            151270            252442           0  \n",
      "283            158591            257555           0  \n",
      "284            143685            231324           0  \n",
      "285            453546            741321           0  \n",
      "286            148016            214903           0  \n",
      "287            146868            167446           0  \n",
      "288            161434            155683           0  \n",
      "289            456318            538032           0  \n",
      "290           1816527           2394400           0  \n",
      "291            163095            176196           0  \n",
      "292            137090            163213           0  \n",
      "293            149813            177863           0  \n",
      "\n",
      "[20 rows x 44 columns]\n",
      "ID                                    438\n",
      "Periods                               438\n",
      "Month                                 438\n",
      "Year                                  438\n",
      "Airport                               438\n",
      "CrossCountryFlights_1                 438\n",
      "TotalFlights_3                        438\n",
      "Scheduled_4                           438\n",
      "NonScheduled_5                        438\n",
      "TotalArrivalsFlights_6                438\n",
      "Scheduled_7                           438\n",
      "NonScheduled_8                        438\n",
      "TotalDeparturesFlights_9              438\n",
      "Scheduled_10                          438\n",
      "NonScheduled_11                       438\n",
      "TotalPassengers_12                    438\n",
      "Scheduled_13                          438\n",
      "NonScheduled_14                       438\n",
      "TotalArrivalsPassengers_15            438\n",
      "Scheduled_16                          438\n",
      "NonScheduled_17                       438\n",
      "TotalDeparturesPassengers_18          438\n",
      "Scheduled_19                          438\n",
      "NonScheduled_20                       438\n",
      "TotalCountryOfOriginDestination_21    438\n",
      "EuropeTotal_22                        438\n",
      "EUCountries_23                        438\n",
      "OtherEurope_24                        438\n",
      "TotalIntercontinentalPassengers_25    438\n",
      "Africa_26                             438\n",
      "NorthAfrica_27                        438\n",
      "WestAfrica_28                         438\n",
      "CentralAfrica_29                      438\n",
      "EastAfrica_30                         438\n",
      "SouthAfrica_31                        438\n",
      "America_32                            438\n",
      "NorthAmerica_33                       438\n",
      "CentralAmerica_34                     438\n",
      "SouthAmerica_35                       438\n",
      "Asia_36                               438\n",
      "WestAsia_37                           438\n",
      "SouthEastAsia_38                      438\n",
      "NorthEastAsia_39                      438\n",
      "Oceania_40                            438\n",
      "dtype: int64\n"
     ]
    },
    {
     "name": "stderr",
     "output_type": "stream",
     "text": [
      "<>:4: SyntaxWarning: invalid escape sequence '\\d'\n",
      "<>:4: SyntaxWarning: invalid escape sequence '\\d'\n",
      "C:\\Users\\949847\\AppData\\Local\\Temp\\ipykernel_17660\\2971596295.py:4: SyntaxWarning: invalid escape sequence '\\d'\n",
      "  file_path = 'Downloads\\dataset_full.csv'\n"
     ]
    }
   ],
   "source": [
    "#What are the changes in air travel behaviour of passengers per month before covid \n",
    "# and after covid in terms of prefered destinations both for short- and long-haul destinations?\n",
    "# Define the file path\n",
    "file_path = 'Downloads\\dataset_full.csv'\n",
    "\n",
    "#filter the data per month + prefered destinations\n",
    "\n",
    "# Read the CSV file\n",
    "df_raw = pd.read_csv(file_path, delimiter=\";\")\n",
    "\n",
    "\"\"\"\n",
    "Leaving some information for the rest of the project:\n",
    "The data is structured so that:\n",
    "\n",
    "Technically you can use the Periods with their code as key: 2015MM01 and \n",
    "use the Month/Year columns for the output parts and visualisation. on the X-axis for example. \n",
    "\n",
    "another thing for the data\n",
    "    -> Each quarter already has sum over the values for the months during the quarter \n",
    "        -> i.e Q1 values = Sum(Januar,feb,March)\n",
    "    -> same goes for the years, as they have summed over the quarters or months (which gives the same results)\n",
    "\n",
    "if you want to do some quarterly values\n",
    "\n",
    "On the other hand, you have for example:\n",
    "    -> Total passengers = sheduled + Non_sheduled\n",
    "        -> As well as Total passengers = Arriving + Departuring \n",
    "    -> Asia = West_Asia + East_asia + North_Asia + South_Asia\n",
    "\n",
    "So you have a lot of breakdown and you can simply pick the columns you want to compare. \n",
    "\n",
    "NEWS = North + East + West + South (funny fact newspaper can be interpreted as north/east/west/south/past/and/present/event report )\n",
    "\n",
    "For europe you only have EU and Non-Eu countries data. Why noth broken into regions idk. \n",
    "(Let's just say Europe is one big family in small island in the report, just how we can treat US as a whole)\n",
    "\"\"\"\n",
    "\n",
    "def preprocessing(df):\n",
    "\n",
    "    #Filter data, so that we work only with Passengers and only for years above 2015(excluding) 2020\n",
    "    df = df.iloc[:, :43]\n",
    "    df = df[ (df['Periods'].str[:4].astype(int) >= 2015) & (df['Periods'].str[:4].astype(int) != 2020)] #add only dates post 2015\n",
    "\n",
    "    # Function to extract year, month, and quarter from the Periods column\n",
    "    def extract_date(period):\n",
    "        #the function returns year, Month, Quarter and since we \n",
    "        #have either Month or Quarter, the missing one is set as None\n",
    "\n",
    "        year = period[:4]               # Extract the year\n",
    "        if 'MM' in period:\n",
    "            month = str(period[6:])     # Extract month number for MM format\n",
    "            return year, month, None    \n",
    "        elif 'KW' in period:\n",
    "            quarter = str(period[6:])   # Extract quarter number for KW format\n",
    "            return year, None, quarter  \n",
    "        return year, None, None  \n",
    "\n",
    "    # Create new columns for Year, Month, and Quarter\n",
    "    df[['Year', 'Month_Num', 'Quarter_Num']] = df['Periods'].apply(extract_date).apply(pd.Series)\n",
    "\n",
    "    # Map months to month names\n",
    "    month_names = {\n",
    "        '01': 'January', '02': 'February', '03': 'March', '04': 'April', \n",
    "        '05': 'May', '06': 'June', '07': 'July', '08': 'August', \n",
    "        '09': 'September', '10': 'October', '11': 'November', '12': 'December'\n",
    "    }\n",
    "\n",
    "    # Map quarters to quarter names\n",
    "    quarter_names = {\n",
    "        '01': 'Q1', '02': 'Q2', '03': 'Q3', '04': 'Q4'\n",
    "    }\n",
    "\n",
    "    #Map airports to their airport quarter  \n",
    "    airport_names = {\n",
    "        'A043590':'Amsterdam Schiphol', 'A043596':'Rotterdam','A043591':'Eindhoven'\n",
    "    }\n",
    "\n",
    "    # Further data processing \n",
    "    df['Month'] = df['Month_Num'].map(month_names)\n",
    "    df['Quarter'] = df['Quarter_Num'].map(quarter_names)\n",
    "    df['Airport'] = df['Airports'].map(airport_names)\n",
    "\n",
    "    # fill in the missing data in the column \"month\" with the Quarter or year \n",
    "    df['Month'] = df['Month'].fillna(df['Quarter'])             \n",
    "    df['Month'] = df['Month'].fillna(df['Year']) \n",
    "\n",
    "    df = df.drop('Quarter', axis=1)         #Quarter is no longer needed \n",
    "    # Drop the Month_Num and Quarter_Num columns as they are not needed anymore \n",
    "    df.drop(columns=['Month_Num', 'Quarter_Num'], inplace=True)\n",
    "    df.drop(columns=['Airports'], inplace=True)\n",
    "\n",
    "    #Local flights are not revelant for this project \n",
    "    df.drop(columns=['LocalFlights_2'], inplace=True)\n",
    "\n",
    "    # List of columns to move and the column after which to insert them\n",
    "    cols_to_move = ['Month', 'Year', 'Airport']\n",
    "    insert_after = 'Periods'\n",
    "\n",
    "    # Get the current columns and find the index of 'Period'\n",
    "    cols = list(df.columns)\n",
    "    insert_at = cols.index(insert_after) + 1\n",
    "\n",
    "    # Remove the columns to move from their original positions\n",
    "    for col in cols_to_move:\n",
    "        cols.remove(col)\n",
    "\n",
    "    # Insert the columns after 'Period'\n",
    "    for i, col in enumerate(cols_to_move):\n",
    "        cols.insert(insert_at + i, col)\n",
    "\n",
    "    # Reorder the DataFrame\n",
    "    df = df[cols]\n",
    "\n",
    "    return df\n",
    "\n",
    "df_processesd = preprocessing(df_raw)\n",
    "\n",
    "# Display the updated DataFrame\n",
    "print(df_processesd.head(20))\n",
    "print(df_processesd.count())"
   ]
  },
  {
   "cell_type": "code",
   "execution_count": null,
   "id": "ccd4f0bc-6b4a-43b3-a55c-1ef9ecf2c91c",
   "metadata": {},
   "outputs": [],
   "source": []
  },
  {
   "cell_type": "code",
   "execution_count": 69,
   "id": "771b5809-bf18-472b-b4e4-fe1199fe110a",
   "metadata": {},
   "outputs": [
    {
     "data": {
      "application/vnd.plotly.v1+json": {
       "config": {
        "plotlyServerURL": "https://plot.ly"
       },
       "data": [
        {
         "name": "Amsterdam Schiphol (2016-2019)",
         "showlegend": true,
         "type": "bar",
         "x": [
          "April",
          "August",
          "December",
          "February",
          "January",
          "July",
          "June",
          "March",
          "May",
          "November",
          "October",
          "September"
         ],
         "xaxis": "x",
         "y": [
          16445192,
          19102122,
          13919115,
          12593769,
          12502396,
          18998477,
          17855822,
          14786448,
          17966409,
          14347212,
          17827785,
          17958465
         ],
         "yaxis": "y"
        },
        {
         "name": "Eindhoven (2016-2019)",
         "showlegend": true,
         "type": "bar",
         "x": [
          "April",
          "August",
          "December",
          "February",
          "January",
          "July",
          "June",
          "March",
          "May",
          "November",
          "October",
          "September"
         ],
         "xaxis": "x",
         "y": [
          2000416,
          2326589,
          1479007,
          1375779,
          1362391,
          2287124,
          1941281,
          1640316,
          2171947,
          1531383,
          2220721,
          2272033
         ],
         "yaxis": "y"
        },
        {
         "name": "Rotterdam (2016-2019)",
         "showlegend": true,
         "type": "bar",
         "x": [
          "April",
          "August",
          "December",
          "February",
          "January",
          "July",
          "June",
          "March",
          "May",
          "November",
          "October",
          "September"
         ],
         "xaxis": "x",
         "y": [
          582181,
          825039,
          313976,
          384866,
          354568,
          808342,
          802338,
          499171,
          805545,
          313577,
          668712,
          798532
         ],
         "yaxis": "y"
        },
        {
         "name": "Amsterdam Schiphol (2021-2024)",
         "showlegend": true,
         "type": "bar",
         "x": [
          "April",
          "August",
          "December",
          "February",
          "January",
          "July",
          "June",
          "March",
          "May",
          "November",
          "October",
          "September"
         ],
         "xaxis": "x2",
         "y": [
          11289276,
          15579760,
          7951267,
          8032596,
          7835554,
          14698599,
          13373017,
          9929713,
          13052662,
          8287579,
          10599527,
          10521603
         ],
         "yaxis": "y2"
        },
        {
         "name": "Eindhoven (2021-2024)",
         "showlegend": true,
         "type": "bar",
         "x": [
          "April",
          "August",
          "December",
          "February",
          "January",
          "July",
          "June",
          "March",
          "May",
          "November",
          "October",
          "September"
         ],
         "xaxis": "x2",
         "y": [
          1738505,
          2404472,
          1176081,
          1163478,
          1170697,
          2248444,
          2015622,
          1382299,
          1964558,
          1209085,
          1759274,
          1708334
         ],
         "yaxis": "y2"
        },
        {
         "name": "Rotterdam (2021-2024)",
         "showlegend": true,
         "type": "bar",
         "x": [
          "April",
          "August",
          "December",
          "February",
          "January",
          "July",
          "June",
          "March",
          "May",
          "November",
          "October",
          "September"
         ],
         "xaxis": "x2",
         "y": [
          455020,
          911494,
          234664,
          293540,
          266626,
          859376,
          672365,
          383884,
          658380,
          235429,
          557361,
          599727
         ],
         "yaxis": "y2"
        },
        {
         "name": "Amsterdam Schiphol (2016-2019)",
         "showlegend": true,
         "type": "bar",
         "x": [
          "April",
          "August",
          "December",
          "February",
          "January",
          "July",
          "June",
          "March",
          "May",
          "November",
          "October",
          "September"
         ],
         "xaxis": "x3",
         "y": [
          11894215,
          13508175,
          11140318,
          9265105,
          10426281,
          13322767,
          12325912,
          10906151,
          12137046,
          10590301,
          12286674,
          12435480
         ],
         "yaxis": "y3"
        },
        {
         "name": "Eindhoven (2016-2019)",
         "showlegend": true,
         "type": "bar",
         "x": [
          "April",
          "August",
          "December",
          "February",
          "January",
          "July",
          "June",
          "March",
          "May",
          "November",
          "October",
          "September"
         ],
         "xaxis": "x3",
         "y": [
          17882,
          24318,
          17810,
          9452,
          7854,
          23324,
          18948,
          14438,
          19398,
          20434,
          18000,
          18096
         ],
         "yaxis": "y3"
        },
        {
         "name": "Rotterdam (2016-2019)",
         "showlegend": true,
         "type": "bar",
         "x": [
          "April",
          "August",
          "December",
          "February",
          "January",
          "July",
          "June",
          "March",
          "May",
          "November",
          "October",
          "September"
         ],
         "xaxis": "x3",
         "y": [
          0,
          1902,
          432,
          2,
          2232,
          1982,
          0,
          386,
          0,
          732,
          0,
          308
         ],
         "yaxis": "y3"
        },
        {
         "name": "Amsterdam Schiphol (2021-2024)",
         "showlegend": true,
         "type": "bar",
         "x": [
          "April",
          "August",
          "December",
          "February",
          "January",
          "July",
          "June",
          "March",
          "May",
          "November",
          "October",
          "September"
         ],
         "xaxis": "x4",
         "y": [
          8026753,
          10422631,
          6633086,
          6006567,
          6756089,
          10175380,
          9125258,
          7399359,
          8592493,
          6090060,
          6730707,
          6663848
         ],
         "yaxis": "y4"
        },
        {
         "name": "Eindhoven (2021-2024)",
         "showlegend": true,
         "type": "bar",
         "x": [
          "April",
          "August",
          "December",
          "February",
          "January",
          "July",
          "June",
          "March",
          "May",
          "November",
          "October",
          "September"
         ],
         "xaxis": "x4",
         "y": [
          0,
          178,
          866,
          796,
          1088,
          120,
          0,
          326,
          0,
          0,
          0,
          0
         ],
         "yaxis": "y4"
        },
        {
         "name": "Rotterdam (2021-2024)",
         "showlegend": true,
         "type": "bar",
         "x": [
          "April",
          "August",
          "December",
          "February",
          "January",
          "July",
          "June",
          "March",
          "May",
          "November",
          "October",
          "September"
         ],
         "xaxis": "x4",
         "y": [
          76,
          0,
          232,
          0,
          0,
          0,
          2,
          0,
          0,
          656,
          0,
          176
         ],
         "yaxis": "y4"
        }
       ],
       "layout": {
        "annotations": [
         {
          "font": {
           "size": 16
          },
          "showarrow": false,
          "text": "Short-Haul Flights (2016-2019)",
          "x": 0.225,
          "xanchor": "center",
          "xref": "paper",
          "y": 1,
          "yanchor": "bottom",
          "yref": "paper"
         },
         {
          "font": {
           "size": 16
          },
          "showarrow": false,
          "text": "Short-Haul Flights (2021-2024)",
          "x": 0.775,
          "xanchor": "center",
          "xref": "paper",
          "y": 1,
          "yanchor": "bottom",
          "yref": "paper"
         },
         {
          "font": {
           "size": 16
          },
          "showarrow": false,
          "text": "Long-Haul Flights (2016-2019)",
          "x": 0.225,
          "xanchor": "center",
          "xref": "paper",
          "y": 0.425,
          "yanchor": "bottom",
          "yref": "paper"
         },
         {
          "font": {
           "size": 16
          },
          "showarrow": false,
          "text": "Long-Haul Flights (2021-2024)",
          "x": 0.775,
          "xanchor": "center",
          "xref": "paper",
          "y": 0.425,
          "yanchor": "bottom",
          "yref": "paper"
         }
        ],
        "height": 1100,
        "template": {
         "data": {
          "bar": [
           {
            "error_x": {
             "color": "#2a3f5f"
            },
            "error_y": {
             "color": "#2a3f5f"
            },
            "marker": {
             "line": {
              "color": "#E5ECF6",
              "width": 0.5
             },
             "pattern": {
              "fillmode": "overlay",
              "size": 10,
              "solidity": 0.2
             }
            },
            "type": "bar"
           }
          ],
          "barpolar": [
           {
            "marker": {
             "line": {
              "color": "#E5ECF6",
              "width": 0.5
             },
             "pattern": {
              "fillmode": "overlay",
              "size": 10,
              "solidity": 0.2
             }
            },
            "type": "barpolar"
           }
          ],
          "carpet": [
           {
            "aaxis": {
             "endlinecolor": "#2a3f5f",
             "gridcolor": "white",
             "linecolor": "white",
             "minorgridcolor": "white",
             "startlinecolor": "#2a3f5f"
            },
            "baxis": {
             "endlinecolor": "#2a3f5f",
             "gridcolor": "white",
             "linecolor": "white",
             "minorgridcolor": "white",
             "startlinecolor": "#2a3f5f"
            },
            "type": "carpet"
           }
          ],
          "choropleth": [
           {
            "colorbar": {
             "outlinewidth": 0,
             "ticks": ""
            },
            "type": "choropleth"
           }
          ],
          "contour": [
           {
            "colorbar": {
             "outlinewidth": 0,
             "ticks": ""
            },
            "colorscale": [
             [
              0,
              "#0d0887"
             ],
             [
              0.1111111111111111,
              "#46039f"
             ],
             [
              0.2222222222222222,
              "#7201a8"
             ],
             [
              0.3333333333333333,
              "#9c179e"
             ],
             [
              0.4444444444444444,
              "#bd3786"
             ],
             [
              0.5555555555555556,
              "#d8576b"
             ],
             [
              0.6666666666666666,
              "#ed7953"
             ],
             [
              0.7777777777777778,
              "#fb9f3a"
             ],
             [
              0.8888888888888888,
              "#fdca26"
             ],
             [
              1,
              "#f0f921"
             ]
            ],
            "type": "contour"
           }
          ],
          "contourcarpet": [
           {
            "colorbar": {
             "outlinewidth": 0,
             "ticks": ""
            },
            "type": "contourcarpet"
           }
          ],
          "heatmap": [
           {
            "colorbar": {
             "outlinewidth": 0,
             "ticks": ""
            },
            "colorscale": [
             [
              0,
              "#0d0887"
             ],
             [
              0.1111111111111111,
              "#46039f"
             ],
             [
              0.2222222222222222,
              "#7201a8"
             ],
             [
              0.3333333333333333,
              "#9c179e"
             ],
             [
              0.4444444444444444,
              "#bd3786"
             ],
             [
              0.5555555555555556,
              "#d8576b"
             ],
             [
              0.6666666666666666,
              "#ed7953"
             ],
             [
              0.7777777777777778,
              "#fb9f3a"
             ],
             [
              0.8888888888888888,
              "#fdca26"
             ],
             [
              1,
              "#f0f921"
             ]
            ],
            "type": "heatmap"
           }
          ],
          "heatmapgl": [
           {
            "colorbar": {
             "outlinewidth": 0,
             "ticks": ""
            },
            "colorscale": [
             [
              0,
              "#0d0887"
             ],
             [
              0.1111111111111111,
              "#46039f"
             ],
             [
              0.2222222222222222,
              "#7201a8"
             ],
             [
              0.3333333333333333,
              "#9c179e"
             ],
             [
              0.4444444444444444,
              "#bd3786"
             ],
             [
              0.5555555555555556,
              "#d8576b"
             ],
             [
              0.6666666666666666,
              "#ed7953"
             ],
             [
              0.7777777777777778,
              "#fb9f3a"
             ],
             [
              0.8888888888888888,
              "#fdca26"
             ],
             [
              1,
              "#f0f921"
             ]
            ],
            "type": "heatmapgl"
           }
          ],
          "histogram": [
           {
            "marker": {
             "pattern": {
              "fillmode": "overlay",
              "size": 10,
              "solidity": 0.2
             }
            },
            "type": "histogram"
           }
          ],
          "histogram2d": [
           {
            "colorbar": {
             "outlinewidth": 0,
             "ticks": ""
            },
            "colorscale": [
             [
              0,
              "#0d0887"
             ],
             [
              0.1111111111111111,
              "#46039f"
             ],
             [
              0.2222222222222222,
              "#7201a8"
             ],
             [
              0.3333333333333333,
              "#9c179e"
             ],
             [
              0.4444444444444444,
              "#bd3786"
             ],
             [
              0.5555555555555556,
              "#d8576b"
             ],
             [
              0.6666666666666666,
              "#ed7953"
             ],
             [
              0.7777777777777778,
              "#fb9f3a"
             ],
             [
              0.8888888888888888,
              "#fdca26"
             ],
             [
              1,
              "#f0f921"
             ]
            ],
            "type": "histogram2d"
           }
          ],
          "histogram2dcontour": [
           {
            "colorbar": {
             "outlinewidth": 0,
             "ticks": ""
            },
            "colorscale": [
             [
              0,
              "#0d0887"
             ],
             [
              0.1111111111111111,
              "#46039f"
             ],
             [
              0.2222222222222222,
              "#7201a8"
             ],
             [
              0.3333333333333333,
              "#9c179e"
             ],
             [
              0.4444444444444444,
              "#bd3786"
             ],
             [
              0.5555555555555556,
              "#d8576b"
             ],
             [
              0.6666666666666666,
              "#ed7953"
             ],
             [
              0.7777777777777778,
              "#fb9f3a"
             ],
             [
              0.8888888888888888,
              "#fdca26"
             ],
             [
              1,
              "#f0f921"
             ]
            ],
            "type": "histogram2dcontour"
           }
          ],
          "mesh3d": [
           {
            "colorbar": {
             "outlinewidth": 0,
             "ticks": ""
            },
            "type": "mesh3d"
           }
          ],
          "parcoords": [
           {
            "line": {
             "colorbar": {
              "outlinewidth": 0,
              "ticks": ""
             }
            },
            "type": "parcoords"
           }
          ],
          "pie": [
           {
            "automargin": true,
            "type": "pie"
           }
          ],
          "scatter": [
           {
            "fillpattern": {
             "fillmode": "overlay",
             "size": 10,
             "solidity": 0.2
            },
            "type": "scatter"
           }
          ],
          "scatter3d": [
           {
            "line": {
             "colorbar": {
              "outlinewidth": 0,
              "ticks": ""
             }
            },
            "marker": {
             "colorbar": {
              "outlinewidth": 0,
              "ticks": ""
             }
            },
            "type": "scatter3d"
           }
          ],
          "scattercarpet": [
           {
            "marker": {
             "colorbar": {
              "outlinewidth": 0,
              "ticks": ""
             }
            },
            "type": "scattercarpet"
           }
          ],
          "scattergeo": [
           {
            "marker": {
             "colorbar": {
              "outlinewidth": 0,
              "ticks": ""
             }
            },
            "type": "scattergeo"
           }
          ],
          "scattergl": [
           {
            "marker": {
             "colorbar": {
              "outlinewidth": 0,
              "ticks": ""
             }
            },
            "type": "scattergl"
           }
          ],
          "scattermapbox": [
           {
            "marker": {
             "colorbar": {
              "outlinewidth": 0,
              "ticks": ""
             }
            },
            "type": "scattermapbox"
           }
          ],
          "scatterpolar": [
           {
            "marker": {
             "colorbar": {
              "outlinewidth": 0,
              "ticks": ""
             }
            },
            "type": "scatterpolar"
           }
          ],
          "scatterpolargl": [
           {
            "marker": {
             "colorbar": {
              "outlinewidth": 0,
              "ticks": ""
             }
            },
            "type": "scatterpolargl"
           }
          ],
          "scatterternary": [
           {
            "marker": {
             "colorbar": {
              "outlinewidth": 0,
              "ticks": ""
             }
            },
            "type": "scatterternary"
           }
          ],
          "surface": [
           {
            "colorbar": {
             "outlinewidth": 0,
             "ticks": ""
            },
            "colorscale": [
             [
              0,
              "#0d0887"
             ],
             [
              0.1111111111111111,
              "#46039f"
             ],
             [
              0.2222222222222222,
              "#7201a8"
             ],
             [
              0.3333333333333333,
              "#9c179e"
             ],
             [
              0.4444444444444444,
              "#bd3786"
             ],
             [
              0.5555555555555556,
              "#d8576b"
             ],
             [
              0.6666666666666666,
              "#ed7953"
             ],
             [
              0.7777777777777778,
              "#fb9f3a"
             ],
             [
              0.8888888888888888,
              "#fdca26"
             ],
             [
              1,
              "#f0f921"
             ]
            ],
            "type": "surface"
           }
          ],
          "table": [
           {
            "cells": {
             "fill": {
              "color": "#EBF0F8"
             },
             "line": {
              "color": "white"
             }
            },
            "header": {
             "fill": {
              "color": "#C8D4E3"
             },
             "line": {
              "color": "white"
             }
            },
            "type": "table"
           }
          ]
         },
         "layout": {
          "annotationdefaults": {
           "arrowcolor": "#2a3f5f",
           "arrowhead": 0,
           "arrowwidth": 1
          },
          "autotypenumbers": "strict",
          "coloraxis": {
           "colorbar": {
            "outlinewidth": 0,
            "ticks": ""
           }
          },
          "colorscale": {
           "diverging": [
            [
             0,
             "#8e0152"
            ],
            [
             0.1,
             "#c51b7d"
            ],
            [
             0.2,
             "#de77ae"
            ],
            [
             0.3,
             "#f1b6da"
            ],
            [
             0.4,
             "#fde0ef"
            ],
            [
             0.5,
             "#f7f7f7"
            ],
            [
             0.6,
             "#e6f5d0"
            ],
            [
             0.7,
             "#b8e186"
            ],
            [
             0.8,
             "#7fbc41"
            ],
            [
             0.9,
             "#4d9221"
            ],
            [
             1,
             "#276419"
            ]
           ],
           "sequential": [
            [
             0,
             "#0d0887"
            ],
            [
             0.1111111111111111,
             "#46039f"
            ],
            [
             0.2222222222222222,
             "#7201a8"
            ],
            [
             0.3333333333333333,
             "#9c179e"
            ],
            [
             0.4444444444444444,
             "#bd3786"
            ],
            [
             0.5555555555555556,
             "#d8576b"
            ],
            [
             0.6666666666666666,
             "#ed7953"
            ],
            [
             0.7777777777777778,
             "#fb9f3a"
            ],
            [
             0.8888888888888888,
             "#fdca26"
            ],
            [
             1,
             "#f0f921"
            ]
           ],
           "sequentialminus": [
            [
             0,
             "#0d0887"
            ],
            [
             0.1111111111111111,
             "#46039f"
            ],
            [
             0.2222222222222222,
             "#7201a8"
            ],
            [
             0.3333333333333333,
             "#9c179e"
            ],
            [
             0.4444444444444444,
             "#bd3786"
            ],
            [
             0.5555555555555556,
             "#d8576b"
            ],
            [
             0.6666666666666666,
             "#ed7953"
            ],
            [
             0.7777777777777778,
             "#fb9f3a"
            ],
            [
             0.8888888888888888,
             "#fdca26"
            ],
            [
             1,
             "#f0f921"
            ]
           ]
          },
          "colorway": [
           "#636efa",
           "#EF553B",
           "#00cc96",
           "#ab63fa",
           "#FFA15A",
           "#19d3f3",
           "#FF6692",
           "#B6E880",
           "#FF97FF",
           "#FECB52"
          ],
          "font": {
           "color": "#2a3f5f"
          },
          "geo": {
           "bgcolor": "white",
           "lakecolor": "white",
           "landcolor": "#E5ECF6",
           "showlakes": true,
           "showland": true,
           "subunitcolor": "white"
          },
          "hoverlabel": {
           "align": "left"
          },
          "hovermode": "closest",
          "mapbox": {
           "style": "light"
          },
          "paper_bgcolor": "white",
          "plot_bgcolor": "#E5ECF6",
          "polar": {
           "angularaxis": {
            "gridcolor": "white",
            "linecolor": "white",
            "ticks": ""
           },
           "bgcolor": "#E5ECF6",
           "radialaxis": {
            "gridcolor": "white",
            "linecolor": "white",
            "ticks": ""
           }
          },
          "scene": {
           "xaxis": {
            "backgroundcolor": "#E5ECF6",
            "gridcolor": "white",
            "gridwidth": 2,
            "linecolor": "white",
            "showbackground": true,
            "ticks": "",
            "zerolinecolor": "white"
           },
           "yaxis": {
            "backgroundcolor": "#E5ECF6",
            "gridcolor": "white",
            "gridwidth": 2,
            "linecolor": "white",
            "showbackground": true,
            "ticks": "",
            "zerolinecolor": "white"
           },
           "zaxis": {
            "backgroundcolor": "#E5ECF6",
            "gridcolor": "white",
            "gridwidth": 2,
            "linecolor": "white",
            "showbackground": true,
            "ticks": "",
            "zerolinecolor": "white"
           }
          },
          "shapedefaults": {
           "line": {
            "color": "#2a3f5f"
           }
          },
          "ternary": {
           "aaxis": {
            "gridcolor": "white",
            "linecolor": "white",
            "ticks": ""
           },
           "baxis": {
            "gridcolor": "white",
            "linecolor": "white",
            "ticks": ""
           },
           "bgcolor": "#E5ECF6",
           "caxis": {
            "gridcolor": "white",
            "linecolor": "white",
            "ticks": ""
           }
          },
          "title": {
           "x": 0.05
          },
          "xaxis": {
           "automargin": true,
           "gridcolor": "white",
           "linecolor": "white",
           "ticks": "",
           "title": {
            "standoff": 15
           },
           "zerolinecolor": "white",
           "zerolinewidth": 2
          },
          "yaxis": {
           "automargin": true,
           "gridcolor": "white",
           "linecolor": "white",
           "ticks": "",
           "title": {
            "standoff": 15
           },
           "zerolinecolor": "white",
           "zerolinewidth": 2
          }
         }
        },
        "title": {
         "text": "Monthly Flight Totals from Dutch Airports: Pre- and Post-COVID-19 (2016-2019 vs. 2021-2024)"
        },
        "width": 1100,
        "xaxis": {
         "anchor": "y",
         "autorange": false,
         "categoryarray": [
          "January",
          "February",
          "March",
          "April",
          "May",
          "June",
          "July",
          "August",
          "September",
          "October",
          "November",
          "December"
         ],
         "categoryorder": "array",
         "domain": [
          0,
          0.45
         ],
         "range": [
          -0.5,
          11.5
         ],
         "tickmode": "array",
         "ticktext": [
          "January",
          "February",
          "March",
          "April",
          "May",
          "June",
          "July",
          "August",
          "September",
          "October",
          "November",
          "December"
         ],
         "tickvals": [
          "January",
          "February",
          "March",
          "April",
          "May",
          "June",
          "July",
          "August",
          "September",
          "October",
          "November",
          "December"
         ],
         "title": {
          "text": "Month"
         },
         "type": "category"
        },
        "xaxis2": {
         "anchor": "y2",
         "autorange": false,
         "categoryarray": [
          "January",
          "February",
          "March",
          "April",
          "May",
          "June",
          "July",
          "August",
          "September",
          "October",
          "November",
          "December"
         ],
         "categoryorder": "array",
         "domain": [
          0.55,
          1
         ],
         "range": [
          -0.5,
          11.5
         ],
         "tickmode": "array",
         "ticktext": [
          "January",
          "February",
          "March",
          "April",
          "May",
          "June",
          "July",
          "August",
          "September",
          "October",
          "November",
          "December"
         ],
         "tickvals": [
          "January",
          "February",
          "March",
          "April",
          "May",
          "June",
          "July",
          "August",
          "September",
          "October",
          "November",
          "December"
         ],
         "title": {
          "text": "Month"
         },
         "type": "category"
        },
        "xaxis3": {
         "anchor": "y3",
         "autorange": false,
         "categoryarray": [
          "January",
          "February",
          "March",
          "April",
          "May",
          "June",
          "July",
          "August",
          "September",
          "October",
          "November",
          "December"
         ],
         "categoryorder": "array",
         "domain": [
          0,
          0.45
         ],
         "range": [
          -0.5,
          11.5
         ],
         "tickmode": "array",
         "ticktext": [
          "January",
          "February",
          "March",
          "April",
          "May",
          "June",
          "July",
          "August",
          "September",
          "October",
          "November",
          "December"
         ],
         "tickvals": [
          "January",
          "February",
          "March",
          "April",
          "May",
          "June",
          "July",
          "August",
          "September",
          "October",
          "November",
          "December"
         ],
         "title": {
          "text": "Month"
         },
         "type": "category"
        },
        "xaxis4": {
         "anchor": "y4",
         "autorange": false,
         "categoryarray": [
          "January",
          "February",
          "March",
          "April",
          "May",
          "June",
          "July",
          "August",
          "September",
          "October",
          "November",
          "December"
         ],
         "categoryorder": "array",
         "domain": [
          0.55,
          1
         ],
         "range": [
          -0.5,
          11.5
         ],
         "tickmode": "array",
         "ticktext": [
          "January",
          "February",
          "March",
          "April",
          "May",
          "June",
          "July",
          "August",
          "September",
          "October",
          "November",
          "December"
         ],
         "tickvals": [
          "January",
          "February",
          "March",
          "April",
          "May",
          "June",
          "July",
          "August",
          "September",
          "October",
          "November",
          "December"
         ],
         "title": {
          "text": "Month"
         },
         "type": "category"
        },
        "yaxis": {
         "anchor": "x",
         "autorange": false,
         "domain": [
          0.575,
          1
         ],
         "range": [
          0,
          20107496.842105262
         ],
         "title": {
          "text": "Total Flights"
         },
         "type": "linear"
        },
        "yaxis2": {
         "anchor": "x2",
         "autorange": false,
         "domain": [
          0.575,
          1
         ],
         "range": [
          0,
          16399747.368421052
         ],
         "type": "linear"
        },
        "yaxis3": {
         "anchor": "x3",
         "autorange": false,
         "domain": [
          0,
          0.425
         ],
         "range": [
          0,
          14219131.57894737
         ],
         "type": "linear"
        },
        "yaxis4": {
         "anchor": "x4",
         "autorange": false,
         "domain": [
          0,
          0.425
         ],
         "range": [
          0,
          10971190.52631579
         ],
         "type": "linear"
        }
       }
      },
      "image/png": "[encoded data removed]",
      "text/html": [
       "<div>                            <div id=\"c48f3a9f-1c76-4e13-87ac-bc2ff0e0bd7b\" class=\"plotly-graph-div\" style=\"height:1100px; width:1100px;\"></div>            <script type=\"text/javascript\">                require([\"plotly\"], function(Plotly) {                    window.PLOTLYENV=window.PLOTLYENV || {};                                    if (document.getElementById(\"c48f3a9f-1c76-4e13-87ac-bc2ff0e0bd7b\")) {                    Plotly.newPlot(                        \"c48f3a9f-1c76-4e13-87ac-bc2ff0e0bd7b\",                        [{\"name\":\"Amsterdam Schiphol (2016-2019)\",\"showlegend\":true,\"x\":[\"April\",\"August\",\"December\",\"February\",\"January\",\"July\",\"June\",\"March\",\"May\",\"November\",\"October\",\"September\"],\"y\":[16445192,19102122,13919115,12593769,12502396,18998477,17855822,14786448,17966409,14347212,17827785,17958465],\"type\":\"bar\",\"xaxis\":\"x\",\"yaxis\":\"y\"},{\"name\":\"Eindhoven (2016-2019)\",\"showlegend\":true,\"x\":[\"April\",\"August\",\"December\",\"February\",\"January\",\"July\",\"June\",\"March\",\"May\",\"November\",\"October\",\"September\"],\"y\":[2000416,2326589,1479007,1375779,1362391,2287124,1941281,1640316,2171947,1531383,2220721,2272033],\"type\":\"bar\",\"xaxis\":\"x\",\"yaxis\":\"y\"},{\"name\":\"Rotterdam (2016-2019)\",\"showlegend\":true,\"x\":[\"April\",\"August\",\"December\",\"February\",\"January\",\"July\",\"June\",\"March\",\"May\",\"November\",\"October\",\"September\"],\"y\":[582181,825039,313976,384866,354568,808342,802338,499171,805545,313577,668712,798532],\"type\":\"bar\",\"xaxis\":\"x\",\"yaxis\":\"y\"},{\"name\":\"Amsterdam Schiphol (2021-2024)\",\"showlegend\":true,\"x\":[\"April\",\"August\",\"December\",\"February\",\"January\",\"July\",\"June\",\"March\",\"May\",\"November\",\"October\",\"September\"],\"y\":[11289276,15579760,7951267,8032596,7835554,14698599,13373017,9929713,13052662,8287579,10599527,10521603],\"type\":\"bar\",\"xaxis\":\"x2\",\"yaxis\":\"y2\"},{\"name\":\"Eindhoven (2021-2024)\",\"showlegend\":true,\"x\":[\"April\",\"August\",\"December\",\"February\",\"January\",\"July\",\"June\",\"March\",\"May\",\"November\",\"October\",\"September\"],\"y\":[1738505,2404472,1176081,1163478,1170697,2248444,2015622,1382299,1964558,1209085,1759274,1708334],\"type\":\"bar\",\"xaxis\":\"x2\",\"yaxis\":\"y2\"},{\"name\":\"Rotterdam (2021-2024)\",\"showlegend\":true,\"x\":[\"April\",\"August\",\"December\",\"February\",\"January\",\"July\",\"June\",\"March\",\"May\",\"November\",\"October\",\"September\"],\"y\":[455020,911494,234664,293540,266626,859376,672365,383884,658380,235429,557361,599727],\"type\":\"bar\",\"xaxis\":\"x2\",\"yaxis\":\"y2\"},{\"name\":\"Amsterdam Schiphol (2016-2019)\",\"showlegend\":true,\"x\":[\"April\",\"August\",\"December\",\"February\",\"January\",\"July\",\"June\",\"March\",\"May\",\"November\",\"October\",\"September\"],\"y\":[11894215,13508175,11140318,9265105,10426281,13322767,12325912,10906151,12137046,10590301,12286674,12435480],\"type\":\"bar\",\"xaxis\":\"x3\",\"yaxis\":\"y3\"},{\"name\":\"Eindhoven (2016-2019)\",\"showlegend\":true,\"x\":[\"April\",\"August\",\"December\",\"February\",\"January\",\"July\",\"June\",\"March\",\"May\",\"November\",\"October\",\"September\"],\"y\":[17882,24318,17810,9452,7854,23324,18948,14438,19398,20434,18000,18096],\"type\":\"bar\",\"xaxis\":\"x3\",\"yaxis\":\"y3\"},{\"name\":\"Rotterdam (2016-2019)\",\"showlegend\":true,\"x\":[\"April\",\"August\",\"December\",\"February\",\"January\",\"July\",\"June\",\"March\",\"May\",\"November\",\"October\",\"September\"],\"y\":[0,1902,432,2,2232,1982,0,386,0,732,0,308],\"type\":\"bar\",\"xaxis\":\"x3\",\"yaxis\":\"y3\"},{\"name\":\"Amsterdam Schiphol (2021-2024)\",\"showlegend\":true,\"x\":[\"April\",\"August\",\"December\",\"February\",\"January\",\"July\",\"June\",\"March\",\"May\",\"November\",\"October\",\"September\"],\"y\":[8026753,10422631,6633086,6006567,6756089,10175380,9125258,7399359,8592493,6090060,6730707,6663848],\"type\":\"bar\",\"xaxis\":\"x4\",\"yaxis\":\"y4\"},{\"name\":\"Eindhoven (2021-2024)\",\"showlegend\":true,\"x\":[\"April\",\"August\",\"December\",\"February\",\"January\",\"July\",\"June\",\"March\",\"May\",\"November\",\"October\",\"September\"],\"y\":[0,178,866,796,1088,120,0,326,0,0,0,0],\"type\":\"bar\",\"xaxis\":\"x4\",\"yaxis\":\"y4\"},{\"name\":\"Rotterdam (2021-2024)\",\"showlegend\":true,\"x\":[\"April\",\"August\",\"December\",\"February\",\"January\",\"July\",\"June\",\"March\",\"May\",\"November\",\"October\",\"September\"],\"y\":[76,0,232,0,0,0,2,0,0,656,0,176],\"type\":\"bar\",\"xaxis\":\"x4\",\"yaxis\":\"y4\"}],                        {\"template\":{\"data\":{\"histogram2dcontour\":[{\"type\":\"histogram2dcontour\",\"colorbar\":{\"outlinewidth\":0,\"ticks\":\"\"},\"colorscale\":[[0.0,\"#0d0887\"],[0.1111111111111111,\"#46039f\"],[0.2222222222222222,\"#7201a8\"],[0.3333333333333333,\"#9c179e\"],[0.4444444444444444,\"#bd3786\"],[0.5555555555555556,\"#d8576b\"],[0.6666666666666666,\"#ed7953\"],[0.7777777777777778,\"#fb9f3a\"],[0.8888888888888888,\"#fdca26\"],[1.0,\"#f0f921\"]]}],\"choropleth\":[{\"type\":\"choropleth\",\"colorbar\":{\"outlinewidth\":0,\"ticks\":\"\"}}],\"histogram2d\":[{\"type\":\"histogram2d\",\"colorbar\":{\"outlinewidth\":0,\"ticks\":\"\"},\"colorscale\":[[0.0,\"#0d0887\"],[0.1111111111111111,\"#46039f\"],[0.2222222222222222,\"#7201a8\"],[0.3333333333333333,\"#9c179e\"],[0.4444444444444444,\"#bd3786\"],[0.5555555555555556,\"#d8576b\"],[0.6666666666666666,\"#ed7953\"],[0.7777777777777778,\"#fb9f3a\"],[0.8888888888888888,\"#fdca26\"],[1.0,\"#f0f921\"]]}],\"heatmap\":[{\"type\":\"heatmap\",\"colorbar\":{\"outlinewidth\":0,\"ticks\":\"\"},\"colorscale\":[[0.0,\"#0d0887\"],[0.1111111111111111,\"#46039f\"],[0.2222222222222222,\"#7201a8\"],[0.3333333333333333,\"#9c179e\"],[0.4444444444444444,\"#bd3786\"],[0.5555555555555556,\"#d8576b\"],[0.6666666666666666,\"#ed7953\"],[0.7777777777777778,\"#fb9f3a\"],[0.8888888888888888,\"#fdca26\"],[1.0,\"#f0f921\"]]}],\"heatmapgl\":[{\"type\":\"heatmapgl\",\"colorbar\":{\"outlinewidth\":0,\"ticks\":\"\"},\"colorscale\":[[0.0,\"#0d0887\"],[0.1111111111111111,\"#46039f\"],[0.2222222222222222,\"#7201a8\"],[0.3333333333333333,\"#9c179e\"],[0.4444444444444444,\"#bd3786\"],[0.5555555555555556,\"#d8576b\"],[0.6666666666666666,\"#ed7953\"],[0.7777777777777778,\"#fb9f3a\"],[0.8888888888888888,\"#fdca26\"],[1.0,\"#f0f921\"]]}],\"contourcarpet\":[{\"type\":\"contourcarpet\",\"colorbar\":{\"outlinewidth\":0,\"ticks\":\"\"}}],\"contour\":[{\"type\":\"contour\",\"colorbar\":{\"outlinewidth\":0,\"ticks\":\"\"},\"colorscale\":[[0.0,\"#0d0887\"],[0.1111111111111111,\"#46039f\"],[0.2222222222222222,\"#7201a8\"],[0.3333333333333333,\"#9c179e\"],[0.4444444444444444,\"#bd3786\"],[0.5555555555555556,\"#d8576b\"],[0.6666666666666666,\"#ed7953\"],[0.7777777777777778,\"#fb9f3a\"],[0.8888888888888888,\"#fdca26\"],[1.0,\"#f0f921\"]]}],\"surface\":[{\"type\":\"surface\",\"colorbar\":{\"outlinewidth\":0,\"ticks\":\"\"},\"colorscale\":[[0.0,\"#0d0887\"],[0.1111111111111111,\"#46039f\"],[0.2222222222222222,\"#7201a8\"],[0.3333333333333333,\"#9c179e\"],[0.4444444444444444,\"#bd3786\"],[0.5555555555555556,\"#d8576b\"],[0.6666666666666666,\"#ed7953\"],[0.7777777777777778,\"#fb9f3a\"],[0.8888888888888888,\"#fdca26\"],[1.0,\"#f0f921\"]]}],\"mesh3d\":[{\"type\":\"mesh3d\",\"colorbar\":{\"outlinewidth\":0,\"ticks\":\"\"}}],\"scatter\":[{\"fillpattern\":{\"fillmode\":\"overlay\",\"size\":10,\"solidity\":0.2},\"type\":\"scatter\"}],\"parcoords\":[{\"type\":\"parcoords\",\"line\":{\"colorbar\":{\"outlinewidth\":0,\"ticks\":\"\"}}}],\"scatterpolargl\":[{\"type\":\"scatterpolargl\",\"marker\":{\"colorbar\":{\"outlinewidth\":0,\"ticks\":\"\"}}}],\"bar\":[{\"error_x\":{\"color\":\"#2a3f5f\"},\"error_y\":{\"color\":\"#2a3f5f\"},\"marker\":{\"line\":{\"color\":\"#E5ECF6\",\"width\":0.5},\"pattern\":{\"fillmode\":\"overlay\",\"size\":10,\"solidity\":0.2}},\"type\":\"bar\"}],\"scattergeo\":[{\"type\":\"scattergeo\",\"marker\":{\"colorbar\":{\"outlinewidth\":0,\"ticks\":\"\"}}}],\"scatterpolar\":[{\"type\":\"scatterpolar\",\"marker\":{\"colorbar\":{\"outlinewidth\":0,\"ticks\":\"\"}}}],\"histogram\":[{\"marker\":{\"pattern\":{\"fillmode\":\"overlay\",\"size\":10,\"solidity\":0.2}},\"type\":\"histogram\"}],\"scattergl\":[{\"type\":\"scattergl\",\"marker\":{\"colorbar\":{\"outlinewidth\":0,\"ticks\":\"\"}}}],\"scatter3d\":[{\"type\":\"scatter3d\",\"line\":{\"colorbar\":{\"outlinewidth\":0,\"ticks\":\"\"}},\"marker\":{\"colorbar\":{\"outlinewidth\":0,\"ticks\":\"\"}}}],\"scattermapbox\":[{\"type\":\"scattermapbox\",\"marker\":{\"colorbar\":{\"outlinewidth\":0,\"ticks\":\"\"}}}],\"scatterternary\":[{\"type\":\"scatterternary\",\"marker\":{\"colorbar\":{\"outlinewidth\":0,\"ticks\":\"\"}}}],\"scattercarpet\":[{\"type\":\"scattercarpet\",\"marker\":{\"colorbar\":{\"outlinewidth\":0,\"ticks\":\"\"}}}],\"carpet\":[{\"aaxis\":{\"endlinecolor\":\"#2a3f5f\",\"gridcolor\":\"white\",\"linecolor\":\"white\",\"minorgridcolor\":\"white\",\"startlinecolor\":\"#2a3f5f\"},\"baxis\":{\"endlinecolor\":\"#2a3f5f\",\"gridcolor\":\"white\",\"linecolor\":\"white\",\"minorgridcolor\":\"white\",\"startlinecolor\":\"#2a3f5f\"},\"type\":\"carpet\"}],\"table\":[{\"cells\":{\"fill\":{\"color\":\"#EBF0F8\"},\"line\":{\"color\":\"white\"}},\"header\":{\"fill\":{\"color\":\"#C8D4E3\"},\"line\":{\"color\":\"white\"}},\"type\":\"table\"}],\"barpolar\":[{\"marker\":{\"line\":{\"color\":\"#E5ECF6\",\"width\":0.5},\"pattern\":{\"fillmode\":\"overlay\",\"size\":10,\"solidity\":0.2}},\"type\":\"barpolar\"}],\"pie\":[{\"automargin\":true,\"type\":\"pie\"}]},\"layout\":{\"autotypenumbers\":\"strict\",\"colorway\":[\"#636efa\",\"#EF553B\",\"#00cc96\",\"#ab63fa\",\"#FFA15A\",\"#19d3f3\",\"#FF6692\",\"#B6E880\",\"#FF97FF\",\"#FECB52\"],\"font\":{\"color\":\"#2a3f5f\"},\"hovermode\":\"closest\",\"hoverlabel\":{\"align\":\"left\"},\"paper_bgcolor\":\"white\",\"plot_bgcolor\":\"#E5ECF6\",\"polar\":{\"bgcolor\":\"#E5ECF6\",\"angularaxis\":{\"gridcolor\":\"white\",\"linecolor\":\"white\",\"ticks\":\"\"},\"radialaxis\":{\"gridcolor\":\"white\",\"linecolor\":\"white\",\"ticks\":\"\"}},\"ternary\":{\"bgcolor\":\"#E5ECF6\",\"aaxis\":{\"gridcolor\":\"white\",\"linecolor\":\"white\",\"ticks\":\"\"},\"baxis\":{\"gridcolor\":\"white\",\"linecolor\":\"white\",\"ticks\":\"\"},\"caxis\":{\"gridcolor\":\"white\",\"linecolor\":\"white\",\"ticks\":\"\"}},\"coloraxis\":{\"colorbar\":{\"outlinewidth\":0,\"ticks\":\"\"}},\"colorscale\":{\"sequential\":[[0.0,\"#0d0887\"],[0.1111111111111111,\"#46039f\"],[0.2222222222222222,\"#7201a8\"],[0.3333333333333333,\"#9c179e\"],[0.4444444444444444,\"#bd3786\"],[0.5555555555555556,\"#d8576b\"],[0.6666666666666666,\"#ed7953\"],[0.7777777777777778,\"#fb9f3a\"],[0.8888888888888888,\"#fdca26\"],[1.0,\"#f0f921\"]],\"sequentialminus\":[[0.0,\"#0d0887\"],[0.1111111111111111,\"#46039f\"],[0.2222222222222222,\"#7201a8\"],[0.3333333333333333,\"#9c179e\"],[0.4444444444444444,\"#bd3786\"],[0.5555555555555556,\"#d8576b\"],[0.6666666666666666,\"#ed7953\"],[0.7777777777777778,\"#fb9f3a\"],[0.8888888888888888,\"#fdca26\"],[1.0,\"#f0f921\"]],\"diverging\":[[0,\"#8e0152\"],[0.1,\"#c51b7d\"],[0.2,\"#de77ae\"],[0.3,\"#f1b6da\"],[0.4,\"#fde0ef\"],[0.5,\"#f7f7f7\"],[0.6,\"#e6f5d0\"],[0.7,\"#b8e186\"],[0.8,\"#7fbc41\"],[0.9,\"#4d9221\"],[1,\"#276419\"]]},\"xaxis\":{\"gridcolor\":\"white\",\"linecolor\":\"white\",\"ticks\":\"\",\"title\":{\"standoff\":15},\"zerolinecolor\":\"white\",\"automargin\":true,\"zerolinewidth\":2},\"yaxis\":{\"gridcolor\":\"white\",\"linecolor\":\"white\",\"ticks\":\"\",\"title\":{\"standoff\":15},\"zerolinecolor\":\"white\",\"automargin\":true,\"zerolinewidth\":2},\"scene\":{\"xaxis\":{\"backgroundcolor\":\"#E5ECF6\",\"gridcolor\":\"white\",\"linecolor\":\"white\",\"showbackground\":true,\"ticks\":\"\",\"zerolinecolor\":\"white\",\"gridwidth\":2},\"yaxis\":{\"backgroundcolor\":\"#E5ECF6\",\"gridcolor\":\"white\",\"linecolor\":\"white\",\"showbackground\":true,\"ticks\":\"\",\"zerolinecolor\":\"white\",\"gridwidth\":2},\"zaxis\":{\"backgroundcolor\":\"#E5ECF6\",\"gridcolor\":\"white\",\"linecolor\":\"white\",\"showbackground\":true,\"ticks\":\"\",\"zerolinecolor\":\"white\",\"gridwidth\":2}},\"shapedefaults\":{\"line\":{\"color\":\"#2a3f5f\"}},\"annotationdefaults\":{\"arrowcolor\":\"#2a3f5f\",\"arrowhead\":0,\"arrowwidth\":1},\"geo\":{\"bgcolor\":\"white\",\"landcolor\":\"#E5ECF6\",\"subunitcolor\":\"white\",\"showland\":true,\"showlakes\":true,\"lakecolor\":\"white\"},\"title\":{\"x\":0.05},\"mapbox\":{\"style\":\"light\"}}},\"xaxis\":{\"anchor\":\"y\",\"domain\":[0.0,0.45],\"title\":{\"text\":\"Month\"},\"tickmode\":\"array\",\"tickvals\":[\"January\",\"February\",\"March\",\"April\",\"May\",\"June\",\"July\",\"August\",\"September\",\"October\",\"November\",\"December\"],\"ticktext\":[\"January\",\"February\",\"March\",\"April\",\"May\",\"June\",\"July\",\"August\",\"September\",\"October\",\"November\",\"December\"],\"categoryorder\":\"array\",\"categoryarray\":[\"January\",\"February\",\"March\",\"April\",\"May\",\"June\",\"July\",\"August\",\"September\",\"October\",\"November\",\"December\"]},\"yaxis\":{\"anchor\":\"x\",\"domain\":[0.575,1.0],\"title\":{\"text\":\"Total Flights\"}},\"xaxis2\":{\"anchor\":\"y2\",\"domain\":[0.55,1.0],\"title\":{\"text\":\"Month\"},\"tickmode\":\"array\",\"tickvals\":[\"January\",\"February\",\"March\",\"April\",\"May\",\"June\",\"July\",\"August\",\"September\",\"October\",\"November\",\"December\"],\"ticktext\":[\"January\",\"February\",\"March\",\"April\",\"May\",\"June\",\"July\",\"August\",\"September\",\"October\",\"November\",\"December\"],\"categoryorder\":\"array\",\"categoryarray\":[\"January\",\"February\",\"March\",\"April\",\"May\",\"June\",\"July\",\"August\",\"September\",\"October\",\"November\",\"December\"]},\"yaxis2\":{\"anchor\":\"x2\",\"domain\":[0.575,1.0]},\"xaxis3\":{\"anchor\":\"y3\",\"domain\":[0.0,0.45],\"title\":{\"text\":\"Month\"},\"tickmode\":\"array\",\"tickvals\":[\"January\",\"February\",\"March\",\"April\",\"May\",\"June\",\"July\",\"August\",\"September\",\"October\",\"November\",\"December\"],\"ticktext\":[\"January\",\"February\",\"March\",\"April\",\"May\",\"June\",\"July\",\"August\",\"September\",\"October\",\"November\",\"December\"],\"categoryorder\":\"array\",\"categoryarray\":[\"January\",\"February\",\"March\",\"April\",\"May\",\"June\",\"July\",\"August\",\"September\",\"October\",\"November\",\"December\"]},\"yaxis3\":{\"anchor\":\"x3\",\"domain\":[0.0,0.425]},\"xaxis4\":{\"anchor\":\"y4\",\"domain\":[0.55,1.0],\"title\":{\"text\":\"Month\"},\"tickmode\":\"array\",\"tickvals\":[\"January\",\"February\",\"March\",\"April\",\"May\",\"June\",\"July\",\"August\",\"September\",\"October\",\"November\",\"December\"],\"ticktext\":[\"January\",\"February\",\"March\",\"April\",\"May\",\"June\",\"July\",\"August\",\"September\",\"October\",\"November\",\"December\"],\"categoryorder\":\"array\",\"categoryarray\":[\"January\",\"February\",\"March\",\"April\",\"May\",\"June\",\"July\",\"August\",\"September\",\"October\",\"November\",\"December\"]},\"yaxis4\":{\"anchor\":\"x4\",\"domain\":[0.0,0.425]},\"annotations\":[{\"font\":{\"size\":16},\"showarrow\":false,\"text\":\"Short-Haul Flights (2016-2019)\",\"x\":0.225,\"xanchor\":\"center\",\"xref\":\"paper\",\"y\":1.0,\"yanchor\":\"bottom\",\"yref\":\"paper\"},{\"font\":{\"size\":16},\"showarrow\":false,\"text\":\"Short-Haul Flights (2021-2024)\",\"x\":0.775,\"xanchor\":\"center\",\"xref\":\"paper\",\"y\":1.0,\"yanchor\":\"bottom\",\"yref\":\"paper\"},{\"font\":{\"size\":16},\"showarrow\":false,\"text\":\"Long-Haul Flights (2016-2019)\",\"x\":0.225,\"xanchor\":\"center\",\"xref\":\"paper\",\"y\":0.425,\"yanchor\":\"bottom\",\"yref\":\"paper\"},{\"font\":{\"size\":16},\"showarrow\":false,\"text\":\"Long-Haul Flights (2021-2024)\",\"x\":0.775,\"xanchor\":\"center\",\"xref\":\"paper\",\"y\":0.425,\"yanchor\":\"bottom\",\"yref\":\"paper\"}],\"height\":1100,\"width\":1100,\"title\":{\"text\":\"Monthly Flight Totals from Dutch Airports: Pre- and Post-COVID-19 (2016-2019 vs. 2021-2024)\"}},                        {\"responsive\": true}                    ).then(function(){\n",
       "                            \n",
       "var gd = document.getElementById('c48f3a9f-1c76-4e13-87ac-bc2ff0e0bd7b');\n",
       "var x = new MutationObserver(function (mutations, observer) {{\n",
       "        var display = window.getComputedStyle(gd).display;\n",
       "        if (!display || display === 'none') {{\n",
       "            console.log([gd, 'removed!']);\n",
       "            Plotly.purge(gd);\n",
       "            observer.disconnect();\n",
       "        }}\n",
       "}});\n",
       "\n",
       "// Listen for the removal of the full notebook cells\n",
       "var notebookContainer = gd.closest('#notebook-container');\n",
       "if (notebookContainer) {{\n",
       "    x.observe(notebookContainer, {childList: true});\n",
       "}}\n",
       "\n",
       "// Listen for the clearing of the current output cell\n",
       "var outputEl = gd.closest('.output');\n",
       "if (outputEl) {{\n",
       "    x.observe(outputEl, {childList: true});\n",
       "}}\n",
       "\n",
       "                        })                };                });            </script>        </div>"
      ]
     },
     "metadata": {},
     "output_type": "display_data"
    }
   ],
   "source": [
    "def total_flights_short_long_haul_combined(df):\n",
    "    airports = [\"Amsterdam Schiphol\", \"Eindhoven\", \"Rotterdam\"]\n",
    "    short_haul = ['EUCountries_23', 'OtherEurope_24']\n",
    "    long_haul = [\n",
    "        'SouthAfrica_31', 'America_32', 'NorthAmerica_33', 'CentralAmerica_34',\n",
    "        'SouthAmerica_35', 'Asia_36', 'WestAsia_37', 'SouthEastAsia_38', \n",
    "        'NorthEastAsia_39', 'Oceania_40'\n",
    "    ]\n",
    "\n",
    "    # Convert Year to integer to avoid type issues\n",
    "    df[\"Year\"] = pd.to_numeric(df[\"Year\"], errors=\"coerce\")\n",
    "\n",
    "    df_filtered = df.loc[\n",
    "        (df[\"Airport\"].isin(airports)) &\n",
    "        (df[\"Month\"].isin([\n",
    "            \"January\", \"February\", \"March\", \"April\", \"May\", \"June\", \n",
    "            \"July\", \"August\", \"September\", \"October\", \"November\", \"December\"\n",
    "        ])) &\n",
    "        (df[\"Year\"].isin([2016, 2017, 2018, 2019, 2021, 2022, 2023, 2024]))\n",
    "    ].copy()\n",
    "\n",
    "    df_filtered[\"Scheduled_10\"] = pd.to_numeric(df_filtered[\"Scheduled_10\"], errors=\"coerce\").fillna(0)\n",
    "    df_filtered[\"NonScheduled_11\"] = pd.to_numeric(df_filtered[\"NonScheduled_11\"], errors=\"coerce\").fillna(0)\n",
    "\n",
    "    # Calculate total flights = scheduled + nonscheduled (for departure)\n",
    "    df_filtered[\"totalflights\"] = df_filtered[\"Scheduled_10\"] + df_filtered[\"NonScheduled_11\"]\n",
    "\n",
    "    # Categorize the years\n",
    "    df_filtered[\"Period\"] = df_filtered[\"Year\"].apply(\n",
    "        lambda x: \"2016-2019\" if x <= 2019 else \"2021-2024\"\n",
    "    )\n",
    "\n",
    "    # Create columns for short-haul and long-haul flights\n",
    "    df_filtered[\"short_haul\"] = df_filtered[short_haul].sum(axis=1)\n",
    "    df_filtered[\"long_haul\"] = df_filtered[long_haul].sum(axis=1)\n",
    "\n",
    "    # Group by Period, Month, and Airport\n",
    "    df_grouped = df_filtered.groupby(\n",
    "        [\"Period\", \"Month\", \"Airport\"]\n",
    "    )[[\"short_haul\", \"long_haul\"]].sum().reset_index()\n",
    "\n",
    "    # Explicitly define the month order\n",
    "    month_order = [\n",
    "        \"January\", \"February\", \"March\", \"April\", \"May\", \"June\", \n",
    "        \"July\", \"August\", \"September\", \"October\", \"November\", \"December\"\n",
    "    ]\n",
    "\n",
    "    # Ensure months are ordered correctly\n",
    "    df_grouped[\"Month\"] = pd.Categorical(df_grouped[\"Month\"], categories=month_order, ordered=True)\n",
    "\n",
    "    # Create 2x2 subplots for each period and haul type\n",
    "    fig = make_subplots(\n",
    "        rows=2, cols=2,\n",
    "        subplot_titles=[\n",
    "            \"Short-Haul Flights (2016-2019)\", \"Short-Haul Flights (2021-2024)\",\n",
    "            \"Long-Haul Flights (2016-2019)\", \"Long-Haul Flights (2021-2024)\"\n",
    "        ],\n",
    "        vertical_spacing=0.15, horizontal_spacing=0.1\n",
    "    )\n",
    "\n",
    "    # Define row and column mappings for each subplot\n",
    "    subplot_positions = {\n",
    "        (\"short_haul\", \"2016-2019\"): (1, 1),\n",
    "        (\"short_haul\", \"2021-2024\"): (1, 2),\n",
    "        (\"long_haul\", \"2016-2019\"): (2, 1),\n",
    "        (\"long_haul\", \"2021-2024\"): (2, 2),\n",
    "    }\n",
    "\n",
    "    # Add traces for each combination of period and haul type\n",
    "    for haul_type, period in subplot_positions:\n",
    "        row, col = subplot_positions[(haul_type, period)]\n",
    "        df_period = df_grouped[df_grouped[\"Period\"] == period]\n",
    "        for airport in airports:\n",
    "            df_airport = df_period[df_period[\"Airport\"] == airport]\n",
    "            fig.add_trace(\n",
    "                go.Bar(\n",
    "                    x=df_airport[\"Month\"],\n",
    "                    y=df_airport[haul_type],\n",
    "                    name=f\"{airport} ({period})\",\n",
    "                    showlegend=True\n",
    "                ),\n",
    "                row=row, col=col\n",
    "            )\n",
    "\n",
    "    # Update layout for better readability\n",
    "    fig.update_layout(\n",
    "        height=1100,\n",
    "        width=1100,\n",
    "        title=\"Monthly Flight Totals from Dutch Airports: Pre- and Post-COVID-19 (2016-2019 vs. 2021-2024)\",\n",
    "        yaxis_title=\"Total Flights\"\n",
    "    )\n",
    "\n",
    "    # Set x-axes to display all months in each subplot\n",
    "    fig.update_xaxes(\n",
    "        title_text=\"Month\",\n",
    "        tickmode=\"array\",\n",
    "        tickvals=month_order,\n",
    "        ticktext=month_order,\n",
    "        categoryorder='array',\n",
    "        categoryarray=month_order\n",
    "    )\n",
    "\n",
    "    fig.show()\n",
    "\n",
    "# Run the function\n",
    "total_flights_short_long_haul_combined(df_processesd)"
   ]
  },
  {
   "cell_type": "code",
   "execution_count": null,
   "id": "3bdb9a08-c80c-451b-b5e2-99328bf4c990",
   "metadata": {},
   "outputs": [],
   "source": []
  }
 ],
 "metadata": {
  "kernelspec": {
   "display_name": "Python 3 (ipykernel)",
   "language": "python",
   "name": "python3"
  },
  "language_info": {
   "codemirror_mode": {
    "name": "ipython",
    "version": 3
   },
   "file_extension": ".py",
   "mimetype": "text/x-python",
   "name": "python",
   "nbconvert_exporter": "python",
   "pygments_lexer": "ipython3",
   "version": "3.12.4"
  }
 },
 "nbformat": 4,
 "nbformat_minor": 5
}
