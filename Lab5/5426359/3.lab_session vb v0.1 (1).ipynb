{
 "cells": [
  {
   "cell_type": "markdown",
   "id": "ba7a5dd8",
   "metadata": {},
   "source": [
    "Import relevant packages here."
   ]
  },
  {
   "cell_type": "code",
   "execution_count": 5,
   "id": "6a8838bb",
   "metadata": {},
   "outputs": [],
   "source": [
    "import matplotlib.pyplot as plt"
   ]
  },
  {
   "cell_type": "markdown",
   "id": "1725519c",
   "metadata": {},
   "source": [
    "Load the data and verify it is loaded correctly.\n",
    "<ul>\n",
    "    <li>Print it (head, tail, or specific rows, choose a sensible number of rows).</li>\n",
    "    <li>Compare it to the source file.</li>\n",
    "<ul>"
   ]
  },
  {
   "cell_type": "code",
   "execution_count": 6,
   "id": "aa4d5e37",
   "metadata": {},
   "outputs": [
    {
     "name": "stdout",
     "output_type": "stream",
     "text": [
      "         dv        s         a\n",
      "0 -0.743240  53.5427  1.242570\n",
      "1 -0.557230  53.6120  1.777920\n",
      "2 -0.454769  53.6541  0.544107\n",
      "3 -0.525396  53.7030 -0.294755\n",
      "4 -0.601285  53.7592 -0.290961\n"
     ]
    }
   ],
   "source": [
    "import pandas as pd\n",
    "\n",
    "# Load data from the CSV file\n",
    "data = pd.read_csv('C:\\\\Users\\\\user\\\\Downloads\\\\cf_data.csv')\n",
    "\n",
    "# Display the first few rows to verify it is loaded correctly\n",
    "print(data.head())"
   ]
  },
  {
   "cell_type": "markdown",
   "id": "0f6d5753",
   "metadata": {},
   "source": [
    "In the ensuing, you will use <code>numpy</code>.\n",
    "\n",
    "Let's create a grid for the values to plot. But first create <b>two arrays named <code>dv</code> and <code>s</code></b> using <code>numpy.linspace</code> that hold the grid values at the relevant indices in their respective dimension of the grid.\n",
    "\n",
    "Create a <b>grid named <code>a</code></b> with zeros using <code>numpy.zeros</code> in to which calculated acceleration values can be stored.<br>\n",
    "<br>\n",
    "Let the grid span:<br>\n",
    "<ul>\n",
    "    <li>Speed difference <code>dv</code> [m/s]\n",
    "        <ul>\n",
    "            <li>From -10 till 10</li>\n",
    "            <li>With 41 evenly spaced values</li>\n",
    "        </ul>\n",
    "    </li>\n",
    "    <li>Headway <code>s</code> [m]\n",
    "        <ul>\n",
    "            <li>From 0 till 200</li>\n",
    "            <li>With 21 evenly spaced values</li>\n",
    "        </ul>\n",
    "    </li>\n",
    "</ul>"
   ]
  },
  {
   "cell_type": "code",
   "execution_count": 7,
   "id": "2d52276f",
   "metadata": {},
   "outputs": [
    {
     "name": "stdout",
     "output_type": "stream",
     "text": [
      "dv shape: (41,), s shape: (21,), a shape: (41, 21)\n"
     ]
    }
   ],
   "source": [
    "import numpy as np\n",
    "\n",
    "# Create dv array with values from -10 to 10 with 41 evenly spaced values\n",
    "dv = np.linspace(-10, 10, 41)\n",
    "\n",
    "# Create s array with values from 0 to 200 with 21 evenly spaced values\n",
    "s = np.linspace(0, 200, 21)\n",
    "\n",
    "# Create a grid a initialised with zeros, with shape (length of dv, length of s)\n",
    "a = np.zeros((len(dv), len(s)))\n",
    "\n",
    "# Display the shapes of dv, s, and a to verify\n",
    "print(f'dv shape: {dv.shape}, s shape: {s.shape}, a shape: {a.shape}')"
   ]
  },
  {
   "cell_type": "markdown",
   "id": "fedab6cf",
   "metadata": {},
   "source": [
    "Create from the imported data 3 separate <code>numpy</code> arrays for each column <code>dv</code>, <code>s</code> and <code>a</code>. (We do this for speed reasons later.)\n",
    "<ul>\n",
    "    <li>Make sure to name them differently from the arrays that belong to the grid as above.</li>\n",
    "    <li>You can access the data of each column in a <code>DataFrame</code> using <code>data.xxx</code> where <code>xxx</code> is the column name (not as a string).</li>\n",
    "    <li>Use the method <code>to_numpy()</code> to convert a column to a <code>numpy</code> array.</li>\n",
    "</ul>"
   ]
  },
  {
   "cell_type": "code",
   "execution_count": 8,
   "id": "1058fc26",
   "metadata": {},
   "outputs": [
    {
     "name": "stdout",
     "output_type": "stream",
     "text": [
      "DV: [-0.74324  -0.55723  -0.454769 -0.525396 -0.601285]\n",
      "S: [53.5427 53.612  53.6541 53.703  53.7592]\n",
      "A: [ 1.24257   1.77792   0.544107 -0.294755 -0.290961]\n"
     ]
    }
   ],
   "source": [
    "# using the dataframe is named 'data' and has columns named 'dv', 's', and 'a'\n",
    "DV = data.dv.to_numpy()  # Convert 'dv' column to a NumPy array\n",
    "S = data.s.to_numpy()    \n",
    "A = data.a.to_numpy()    \n",
    "\n",
    "# display the arrays to verify\n",
    "print(f'DV: {DV[:5]}')  # Display first 5 elements\n",
    "print(f'S: {S[:5]}')\n",
    "print(f'A: {A[:5]}')"
   ]
  },
  {
   "cell_type": "markdown",
   "id": "bbf1585a",
   "metadata": {},
   "source": [
    "Create an algorithm that calculates all the acceleration values and stores them in the grid. The algorithm is described visually in the last part of the lecture. At each grid point, it calculates a weighted mean of all measurements. The weights are given by an exponential function, based on the 'distance' between the grid point, and the measurement values of <code>dv</code> and <code>s</code>. To get you started, how many <code>for</code>-loops do you need?<br>\n",
    "<br>\n",
    "For this you will need <code>math</code>.<br>\n",
    "Use an <i>upsilon</i> of 1.5m/s and a <i>sigma</i> of 30m.<br>\n",
    "<br>\n",
    "<b>Warning:</b> This calculation may take some time. So:\n",
    "<ul>\n",
    "    <li>Print a line for each iteration of the outer-most <code>for</code>-loop that shows you the progress.</li>\n",
    "    <li>Test you code by running it only on the first 50 measurements of the data.</li>\n",
    "</ul>"
   ]
  },
  {
   "cell_type": "code",
   "execution_count": 16,
   "id": "676dd33f",
   "metadata": {},
   "outputs": [
    {
     "name": "stdout",
     "output_type": "stream",
     "text": [
      "row 1 out of 41\n",
      "row 2 out of 41\n",
      "row 3 out of 41\n",
      "row 4 out of 41\n",
      "row 5 out of 41\n",
      "row 6 out of 41\n",
      "row 7 out of 41\n",
      "row 8 out of 41\n",
      "row 9 out of 41\n",
      "row 10 out of 41\n",
      "row 11 out of 41\n",
      "row 12 out of 41\n",
      "row 13 out of 41\n",
      "row 14 out of 41\n",
      "row 15 out of 41\n",
      "row 16 out of 41\n",
      "row 17 out of 41\n",
      "row 18 out of 41\n",
      "row 19 out of 41\n",
      "row 20 out of 41\n",
      "row 21 out of 41\n",
      "row 22 out of 41\n",
      "row 23 out of 41\n",
      "row 24 out of 41\n",
      "row 25 out of 41\n",
      "row 26 out of 41\n",
      "row 27 out of 41\n",
      "row 28 out of 41\n",
      "row 29 out of 41\n",
      "row 30 out of 41\n",
      "row 31 out of 41\n",
      "row 32 out of 41\n",
      "row 33 out of 41\n",
      "row 34 out of 41\n",
      "row 35 out of 41\n",
      "row 36 out of 41\n",
      "row 37 out of 41\n",
      "row 38 out of 41\n",
      "row 39 out of 41\n",
      "row 40 out of 41\n",
      "row 41 out of 41\n"
     ]
    }
   ],
   "source": [
    "import math\n",
    "\n",
    "# parameters\n",
    "upsilon = 1.5\n",
    "sigma = 30\n",
    "\n",
    "# reshape the DV and S arrays for correct broadcasting\n",
    "DV_reshaped = DV[:50].reshape(50, 1, 1)\n",
    "S_reshaped = S[:50].reshape(50, 1, 1)\n",
    "\n",
    "# precompute the weights for the first 50 measurements\n",
    "weights = np.exp(\n",
    "    -0.5 * (\n",
    "        ((dv[:, None] - DV_reshaped) / upsilon) ** 2 +\n",
    "        ((s[None, :] - S_reshaped) / sigma) ** 2\n",
    "    )\n",
    ")\n",
    "\n",
    "\n",
    "# loop trough each of the grid\n",
    "for i in range(len(dv)):\n",
    "    for j in range(len(s)):\n",
    "# Calculate the weighted mean for the grid point\n",
    "        numerator = np.sum(weights[:, i, j] * A[:50])\n",
    "        denominator = np.sum(weights[:, i, j])\n",
    "        if denominator != 0:\n",
    "            a[i, j] = numerator / denominator\n",
    "        else:\n",
    "            a[i, j] = 0\n",
    "        \n",
    "    print(f\"row {i + 1} out of {len(dv)}\")"
   ]
  },
  {
   "cell_type": "markdown",
   "id": "52cbac3a",
   "metadata": {},
   "source": [
    "The following code will plot the data for you. Does it make sense when considering:\n",
    "<ul>\n",
    "    <li>Negative (slower than leader) and positive (faster than leader) speed differences?</li>\n",
    "    <li>Small and large headways?</li>\n",
    "</ul>"
   ]
  },
  {
   "cell_type": "code",
   "execution_count": 10,
   "id": "168949b8",
   "metadata": {},
   "outputs": [
    {
     "data": {
      "image/png": "[encoded data removed]",
      "text/plain": [
       "<Figure size 1000x700 with 2 Axes>"
      ]
     },
     "metadata": {},
     "output_type": "display_data"
    }
   ],
   "source": [
    "X, Y = np.meshgrid(s, dv)\n",
    "fig, ax = plt.subplots()\n",
    "p = ax.pcolor(X, Y, a, shading='auto')\n",
    "ax.set_title('Acceleration [m/s^2]')\n",
    "ax.set_xlabel('Headway [m]')\n",
    "ax.set_ylabel('Speed difference [m/s]')\n",
    "fig.colorbar(p, ax=ax)\n",
    "fig.set_size_inches(10, 7)\n",
    "plt.show()"
   ]
  }
 ],
 "metadata": {
  "kernelspec": {
   "display_name": "Python 3 (ipykernel)",
   "language": "python",
   "name": "python3"
  },
  "language_info": {
   "codemirror_mode": {
    "name": "ipython",
    "version": 3
   },
   "file_extension": ".py",
   "mimetype": "text/x-python",
   "name": "python",
   "nbconvert_exporter": "python",
   "pygments_lexer": "ipython3",
   "version": "3.12.4"
  }
 },
 "nbformat": 4,
 "nbformat_minor": 5
}
