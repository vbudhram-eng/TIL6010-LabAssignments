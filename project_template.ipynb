{
 "cells": [
  {
   "cell_type": "markdown",
   "metadata": {},
   "source": [
    "# TIL6022 Project Group 7 \n",
    "\n",
    "Members: Viresh Budhram, Iris den Ouden, Jelle Top, Ivaylo Iliev, Finn van Benthem\n",
    "\n",
    "Student numbers: 5426359, 5879671, 5656982, 6294340, 6239730"
   ]
  },
  {
   "cell_type": "markdown",
   "metadata": {},
   "source": [
    "# Research Objective:\n"
   ]
  },
  {
   "cell_type": "markdown",
   "metadata": {},
   "source": [
    "Main objective: How have air travel patterns, including passenger volumes and destination preferences, evolved for travelers to and from Dutch airports between the periods 2015-2019 and 2021-2024?\n",
    "\n",
    "Sub objectives :\n",
    "\n",
    "    - What's the difference intercontinental and international flights in terms of number of passengers and number of flights?\n",
    "\n",
    "    - What is the load factor (number of passenger per flight) and how ti changed over time?\n",
    "    \n",
    "    - Change in air travel behaviour of passenger per month before and after covid \n",
    "\n"
   ]
  },
  {
   "cell_type": "markdown",
   "metadata": {},
   "source": [
    "# Contribution Statement\n",
    "\n",
    "*Be specific. Some of the tasks can be coding (expect everyone to do this), background research, conceptualisation, visualisation, data analysis, data modelling*"
   ]
  },
  {
   "cell_type": "markdown",
   "metadata": {},
   "source": [
    "**Author 1**: Viresh Budhram\n",
    "\n",
    "**Author 2**: Iris den Ouden \n",
    "\n",
    "**Author 3**: Jelle Top\n",
    "\n",
    "**Author 4**: Ivaylo Iliev\n",
    "\n",
    "**Author 5**: Finn van Benthem"
   ]
  },
  {
   "cell_type": "markdown",
   "metadata": {},
   "source": [
    "# Data Used"
   ]
  },
  {
   "cell_type": "markdown",
   "metadata": {},
   "source": [
    "Dataset_Passenger_data.xlsx\n",
    "\n",
    "https://opendata.cbs.nl/statline/portal.html?_la=en&_catalog=CBS&tableId=37478eng&_theme=1185\n"
   ]
  },
  {
   "cell_type": "markdown",
   "metadata": {},
   "source": [
    "# Data Pipeline"
   ]
  },
  {
   "cell_type": "markdown",
   "metadata": {},
   "source": [
    "Methodologies \n",
    "and more stuff\n",
    "I forgot something \n",
    "maybe start with filtering the data"
   ]
  }
 ],
 "metadata": {
  "kernelspec": {
   "display_name": "Python 3 (ipykernel)",
   "language": "python",
   "name": "python3"
  },
  "language_info": {
   "codemirror_mode": {
    "name": "ipython",
    "version": 3
   },
   "file_extension": ".py",
   "mimetype": "text/x-python",
   "name": "python",
   "nbconvert_exporter": "python",
   "pygments_lexer": "ipython3",
   "version": "3.12.4"
  },
  "vscode": {
   "interpreter": {
    "hash": "31f2aee4e71d21fbe5cf8b01ff0e069b9275f58929596ceb00d14d90e3e16cd6"
   }
  }
 },
 "nbformat": 4,
 "nbformat_minor": 4
}
