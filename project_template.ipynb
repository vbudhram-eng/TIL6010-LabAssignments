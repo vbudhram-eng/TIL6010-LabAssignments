{
 "cells": [
  {
   "cell_type": "markdown",
   "metadata": {},
   "source": [
    "# TIL6022 Project Group 7 \n",
    "\n",
    "Members: Viresh Budhram, Iris den Ouden, Jelle Top, Ivaylo Iliev, Finn van Benthem\n",
    "\n",
    "Student numbers: 5426359, 5879671, 5656982, 6294340, 6239730"
   ]
  },
  {
   "cell_type": "markdown",
   "metadata": {},
   "source": [
    "# 1. Research Objectives and Research Questions:\n"
   ]
  },
  {
   "cell_type": "markdown",
   "metadata": {},
   "source": [
    "Main objective: How have air travel patterns, including passenger volumes and destination preferences, evolved for travelers to and from Dutch airports between the periods 2015-2019 and 2021-2024?\n",
    "\n",
    "Sub objectives :\n",
    "\n",
    "    - What's the difference intercontinental and international flights in terms of number of passengers and number of flights?\n",
    "\n",
    "    - What is the load factor (number of passenger per flight) and how to changed over time?\n",
    "    \n",
    "    - Change in air travel behaviour of passenger per month before and after covid \n",
    "        Also look at destinations (local, intercontinental or international)\n",
    "    \n",
    "    - (Jelle one idea)\n",
    "\n",
    "    - What are the most popular international destinations for Dutch travelers during the periods of 2015-2019 and 2021-2024? How have travel preferences changed in terms of short-haul versus long-haul destinations?\n",
    "\n",
    "    - Which continent region did Dutch people chosed for their vacation abroad. (Excluding Europe(?)) \n",
    "        - by this I mean: \n",
    "            -> In 2015, West Europe had the highest number of passengers (XXXX)\n",
    "            ->  In 2016, East Asia had the highest number of passengers (XXXX)\n",
    "        (Maybe we can exclude europe flights, as there many people travel not for vacation, but to visit family? (But we can also count that as a vacation. don't know tbh)\n",
    "\n",
    "\n"
   ]
  },
  {
   "cell_type": "markdown",
   "metadata": {},
   "source": [
    "# 2.\tDataset & Motivation\n",
    "\n"
   ]
  },
  {
   "cell_type": "markdown",
   "metadata": {},
   "source": [
    "The dataset we will use for our project is\n",
    "Dataset_Passenger_data.xlsx\n",
    "This dataset is extracted from: https://opendata.cbs.nl/statline/portal.html?_la=en&_catalog=CBS&tableId=37478eng&_theme=1185\n",
    "\n",
}
{
    " The dataset provides information on flight movements, passengers, cargo, and mail at Dutch airports. 
      The available data is presented on a yearly basis from 1997 onwards and on a monthly basis from 1999 to 2024. 
      For this assignment, we will focus on the data related to flight movements and passengers at Dutch airports. 
      For flight movements, the dataset shows differences between commercial air traffic flights and local flights.
      The dataset includes all the data for the period before COVID-19 (2015-2019) and after COVID-19 (2021-2024) that we need to process for the assignment.
},
\n",
    "\n"
   ]
  },
  {
   "cell_type": "markdown",
   "metadata": {},
   "source": [
    "# 3. Data Pipeline [Methodology]"
   ]
  },
  {
   "cell_type": "markdown",
   "metadata": {},
   "source": [
    "Methodologies that will be used to answer the sub and main research questions\n",
    "\n",
    "1. Filtering the data. Since our project focusses on the years 2016-2019 and 2021 - 2024 we have to extract the data from those years from the datasheet.\n",
    "2. Test\n",
    "3.\n",
    "4.\n"
   ]
  },
  {
   "cell_type": "markdown",
   "metadata": {},
   "source": []
  }
 ],
 "metadata": {
  "kernelspec": {
   "display_name": "Python 3 (ipykernel)",
   "language": "python",
   "name": "python3"
  },
  "language_info": {
   "codemirror_mode": {
    "name": "ipython",
    "version": 3
   },
   "file_extension": ".py",
   "mimetype": "text/x-python",
   "name": "python",
   "nbconvert_exporter": "python",
   "pygments_lexer": "ipython3",
   "version": "3.12.4"
  },
  "vscode": {
   "interpreter": {
    "hash": "31f2aee4e71d21fbe5cf8b01ff0e069b9275f58929596ceb00d14d90e3e16cd6"
   }
  }
 },
 "nbformat": 4,
 "nbformat_minor": 4
}
