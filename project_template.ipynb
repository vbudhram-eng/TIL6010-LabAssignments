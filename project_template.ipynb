{
 "cells": [
  {
   "cell_type": "markdown",
   "metadata": {},
   "source": [
    "# TIL6022 Project Group 7 \n",
    "\n",
    "Members: Viresh Budhram, Iris den Ouden, Jelle Top, Ivaylo Iliev, Finn van Benthem\n",
    "\n",
    "Student numbers: 5426359, 5879671, 5656982, 6294340, 6239730"
   ]
  },
  {
   "cell_type": "markdown",
   "metadata": {},
   "source": [
    "# 1. Research Objectives and Research Questions:\n"
   ]
  },
  {
   "cell_type": "markdown",
   "metadata": {},
   "source": [
    "Main objective: How have air travel patterns, including passenger volumes and destination preferences, evolved for travelers to and from Dutch airports between the periods 2015-2019 and 2021-2024?\n",
    "\n",
    "Sub objectives :\n",
    "\n",
    "    - What's the difference intercontinental and international flights in terms of number of passengers and number of flights?\n",
    "\n",
    "    - What is the load factor (number of passenger per flight) and how to changed over time?\n",
    "    \n",
    "    - Change in air travel behaviour of passenger per month before and after covid \n",
    "        Also look at destinations (intercontinental or international)\n",
    "    \n",
    "    - (Jelle one idea)\n",
    "\n",
    "    - (Ivo one idea)\n",
    "\n",
    "\n"
   ]
  },
  {
   "cell_type": "markdown",
   "metadata": {},
   "source": [
    "# 2.\tDataset & Motivation\n",
    "\n"
   ]
  },
  {
   "cell_type": "markdown",
   "metadata": {},
   "source": [
    "The dataset we will use for our project is\n",
    "Dataset_Passenger_data.xlsx\n",
    "This dataset is extracted from: https://opendata.cbs.nl/statline/portal.html?_la=en&_catalog=CBS&tableId=37478eng&_theme=1185\n",
    "\n",
    "....more motivation about why the data is useful, how comprehensive the dataset is. How relevant it is.\n",
    "\n"
   ]
  },
  {
   "cell_type": "markdown",
   "metadata": {},
   "source": [
    "# 3. Data Pipeline [Methodology]"
   ]
  },
  {
   "cell_type": "markdown",
   "metadata": {},
   "source": [
    "Methodologies that will be used to answer the sub and main research questions\n",
    "\n",
    "1. Filtering the data. Since our project focusses on the years 2016-2019 and 2021 - 2024 we have to extract the data from those years from the datasheet.\n",
    "2.\n",
    "3.\n",
    "4.\n"
   ]
  },
  {
   "cell_type": "markdown",
   "metadata": {},
   "source": []
  }
 ],
 "metadata": {
  "kernelspec": {
   "display_name": "Python 3 (ipykernel)",
   "language": "python",
   "name": "python3"
  },
  "language_info": {
   "codemirror_mode": {
    "name": "ipython",
    "version": 3
   },
   "file_extension": ".py",
   "mimetype": "text/x-python",
   "name": "python",
   "nbconvert_exporter": "python",
   "pygments_lexer": "ipython3",
   "version": "3.12.4"
  },
  "vscode": {
   "interpreter": {
    "hash": "31f2aee4e71d21fbe5cf8b01ff0e069b9275f58929596ceb00d14d90e3e16cd6"
   }
  }
 },
 "nbformat": 4,
 "nbformat_minor": 4
}
