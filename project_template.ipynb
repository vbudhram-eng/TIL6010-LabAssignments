{
 "cells": [
  {
   "cell_type": "markdown",
   "metadata": {},
   "source": [
    "# TIL6022 Project Group 7 \n",
    "\n",
    "Members: Viresh Budhram, Iris den Ouden, Jelle Top, Ivaylo Iliev, Finn van Benthem\n",
    "\n",
    "Student numbers: 5426359, 5879671, 5656982, 6294340, 6239730"
   ]
  },
  {
   "cell_type": "markdown",
   "metadata": {},
   "source": [
    "# 1. Research Objectives and Research Questions:\n"
   ]
  },
  {
   "cell_type": "markdown",
   "metadata": {},
   "source": [
    "Main objective: How have air travel patterns, including passenger volumes and destination preferences, evolved for travelers to and from Dutch airports between the periods 2015-2019 and 2021-2024?\n",
    "\n",
    "Sub objectives :\n",
    "\n",
    "1) What's the difference between intercontinental and international flights in terms of number of passengers and number of flights?\n",
    "2) What is the load factor (number of passenger per flight) and how to changed over time?\n",
    "3) What are the changes in air travel behaviour of passenger per month before and after covid in terms of prefered destinations both for short- and long-haul destinations?\n",
    "4) What are the forecasted air travel passengers in the years 2024 - 2030?\n",
    "5) Which continent region did Dutch people choosed as their favourire for their vacation abroad per year? Has covid affected it?\"\n",
    "\n"
   ]
  },
  {
   "cell_type": "markdown",
   "metadata": {},
   "source": [
    "# 2.\tDataset & Motivation\n",
    "\n"
   ]
  },
  {
   "cell_type": "markdown",
   "metadata": {},
   "source": [
    "The dataset provides information on flight movements, passengers, cargo, and mail at Dutch airports. The available data is presented on a yearly basis from 1997 onwards and on a monthly basis from 1999 to 2024. For this assignment, we will focus on the data related to flight movements and passengers at Dutch airports. For flight movements, the dataset shows differences between commercial air traffic flights and local flights.\n",
    "The dataset includes all the data for the period before COVID-19 (2015-2019) and after COVID-19 (2021-2024) that we need to process for the assignment.\n",
    "\n",
    "\n",
    "The dataset we will use for our project is\n",
    "dataset_full.csv\n",
    "This dataset is extracted from: https://opendata.cbs.nl/statline/portal.html?_la=en&_catalog=CBS&tableId=37478eng&_theme=1185\n",
    "\n",
    "\n"
   ]
  },
  {
   "cell_type": "markdown",
   "metadata": {},
   "source": [
    "# 3. Data Pipeline [Methodology]"
   ]
  },
  {
   "cell_type": "markdown",
   "metadata": {},
   "source": [
    "Methodologies that will be used to answer the sub and main research questions\n",
    "\n",
    "Every datapipeline consists of the three basic components:\n",
    "1. Data sources: What does the data consists of? Which data do we need?\n",
    "2. Transformation and processing: transformation can exists out of operations sucg as grouping, filtering, and sorting . In this step, it is important that the data is cleansed and prepared.\n",
    "3. Destination: in this part, the data will be used for analysis and will be made more visual. \n",
    "\n",
    "\n",
    "## Step 1: Data sources\n",
    "For this analysis, a dataset will be used which consists of the following information:\n",
    "    - Airport ID number, periods\n",
    "    - Flights (total, arrivals, departures)\n",
    "        - Passengers (total, arrivals, departures, scheduled, non-scheduled)\n",
    "        - Destinations (total, Europe, EU, intercontinental, every part of every continent)\n",
    "    - Cargo (total, destinations)\n",
    "    - Mail (total, destinations)\n",
    "    \n",
    "Not all information from this dataset will be relevant, the following data will be needed:\n",
    "- Airport ID number, periods, flight information about passengers.\n",
    "\n",
    "\n",
    "## Step 2: Data Transformation and processing\n",
    "To make sure the data will be used correctly, it is important to filter, group and sort the data. The following steps will be/are followed (???):\n",
    "1. Filter out all unnecccessary data:\n",
    "\n",
    "    1.1 Data about mail and cargo flights.\n",
    "    \n",
    "    1.2 Remove data about local flights. Local flights are not common in the Netherlands as and are not relevant for this project. The local flights that did happen where not meant to transport people from one airport to the other as public transport is way faster for that.  \n",
    "\n",
    "2. Filter data about periods. This projects focusses on the years 2016-2019 and 2021-2024, the useful data during these periods of time will be extracted from the datasheet.\n",
    "\n",
    "3. Replace Airport ID number with logical name. An ID number does not give direct information about which airport is being analyzed. By replacing the ID number with a logical name, this will be more clear when multiple aiports will be analyzed. For example: AO3590 = Schiphol. \n",
    "\n",
    "4. Split the data column 'periods'. This column is formulated as year-month (2001-mm01 = january 2001), this column is splitted in years and months which creates an extra column. This is done to remove the letters from this data column and to be able to analyze the data by year and to compare the data in time by month. \n",
    "\n",
    "5. The outcome is an overview of the data related to passenger flights going abroad during the periods 2016-2019 and 2021-2024.\n",
    "\n",
    "## Step 3: Destination \n",
    " This part needs to include the points how the data will be made visible. \n"
   ]
  },
  {
   "cell_type": "markdown",
   "metadata": {},
   "source": []
  }
 ],
 "metadata": {
  "kernelspec": {
   "display_name": "Python 3 (ipykernel)",
   "language": "python",
   "name": "python3"
  },
  "language_info": {
   "codemirror_mode": {
    "name": "ipython",
    "version": 3
   },
   "file_extension": ".py",
   "mimetype": "text/x-python",
   "name": "python",
   "nbconvert_exporter": "python",
   "pygments_lexer": "ipython3",
   "version": "3.12.4"
  },
  "vscode": {
   "interpreter": {
    "hash": "31f2aee4e71d21fbe5cf8b01ff0e069b9275f58929596ceb00d14d90e3e16cd6"
   }
  }
 },
 "nbformat": 4,
 "nbformat_minor": 4
}
