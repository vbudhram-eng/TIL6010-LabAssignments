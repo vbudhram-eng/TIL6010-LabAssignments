{
 "cells": [
  {
   "cell_type": "code",
   "execution_count": 17,
   "metadata": {},
   "outputs": [
    {
     "name": "stdout",
     "output_type": "stream",
     "text": [
      "      ID   Periods      Month  Year             Airport  \\\n",
      "274  711  2015MM01    January  2015  Amsterdam Schiphol   \n",
      "275  712  2015MM02   February  2015  Amsterdam Schiphol   \n",
      "276  713  2015MM03      March  2015  Amsterdam Schiphol   \n",
      "277  714  2015KW01         Q1  2015  Amsterdam Schiphol   \n",
      "278  715  2015MM04      April  2015  Amsterdam Schiphol   \n",
      "279  716  2015MM05        May  2015  Amsterdam Schiphol   \n",
      "280  717  2015MM06       June  2015  Amsterdam Schiphol   \n",
      "281  718  2015KW02         Q2  2015  Amsterdam Schiphol   \n",
      "282  719  2015MM07       July  2015  Amsterdam Schiphol   \n",
      "283  720  2015MM08     August  2015  Amsterdam Schiphol   \n",
      "284  721  2015MM09  September  2015  Amsterdam Schiphol   \n",
      "285  722  2015KW03         Q3  2015  Amsterdam Schiphol   \n",
      "286  723  2015MM10    October  2015  Amsterdam Schiphol   \n",
      "287  724  2015MM11   November  2015  Amsterdam Schiphol   \n",
      "288  725  2015MM12   December  2015  Amsterdam Schiphol   \n",
      "289  726  2015KW04         Q4  2015  Amsterdam Schiphol   \n",
      "290  727  2015JJ00       2015  2015  Amsterdam Schiphol   \n",
      "291  728  2016MM01    January  2016  Amsterdam Schiphol   \n",
      "292  729  2016MM02   February  2016  Amsterdam Schiphol   \n",
      "293  730  2016MM03      March  2016  Amsterdam Schiphol   \n",
      "\n",
      "     CrossCountryFlights_1  TotalFlights_3  Scheduled_4  NonScheduled_5  \\\n",
      "274                  32746           32032        30877            1155   \n",
      "275                  31365           30607        29457            1150   \n",
      "276                  35498           34599        33385            1214   \n",
      "277                  99609           97238        93719            3519   \n",
      "278                  38460           37602        35824            1778   \n",
      "279                  42132           41072        38046            3026   \n",
      "280                  41273           40066        37419            2647   \n",
      "281                 121865          118740       111289            7451   \n",
      "282                  43503           42494        38460            4034   \n",
      "283                  43212           42339        38216            4123   \n",
      "284                  41616           40558        37863            2695   \n",
      "285                 128331          125391       114539           10852   \n",
      "286                  41305           40241        37944            2297   \n",
      "287                  35487           34454        33509             945   \n",
      "288                  35520           34609        33745             864   \n",
      "289                 112312          109304       105198            4106   \n",
      "290                 462117          450673       424745           25928   \n",
      "291                  34003           33151        32373             778   \n",
      "292                  33832           32959        32156             803   \n",
      "293                  37962           36903        36011             892   \n",
      "\n",
      "     TotalArrivalsFlights_6  ...  SouthAfrica_31  America_32  NorthAmerica_33  \\\n",
      "274                   15985  ...           35236      602564           373946   \n",
      "275                   15298  ...           32298      506992           308215   \n",
      "276                   17310  ...           36760      622212           402484   \n",
      "277                   48593  ...          104294     1731768          1084645   \n",
      "278                   18797  ...           30125      697454           485299   \n",
      "279                   20535  ...           29268      801872           579116   \n",
      "280                   20035  ...           29311      831330           608987   \n",
      "281                   59367  ...           88704     2330656          1673402   \n",
      "282                   21239  ...           31270      872530           626486   \n",
      "283                   21176  ...           33186      893391           648241   \n",
      "284                   20286  ...           30427      836065           603797   \n",
      "285                   62701  ...           94883     2601986          1878524   \n",
      "286                   20108  ...           32800      796260           566462   \n",
      "287                   17243  ...           36809      619611           400208   \n",
      "288                   17313  ...           38694      656486           418629   \n",
      "289                   54664  ...          108303     2072357          1385299   \n",
      "290                  225325  ...          396184     8736767          6021870   \n",
      "291                   16567  ...           38561      634604           384878   \n",
      "292                   16478  ...           35803      550982           330153   \n",
      "293                   18447  ...           37751      679550           444948   \n",
      "\n",
      "     CentralAmerica_34  SouthAmerica_35  Asia_36  WestAsia_37  \\\n",
      "274             121244           107374   493745       149103   \n",
      "275             106749            92028   443474       134920   \n",
      "276             115104           104624   490769       148450   \n",
      "277             343097           304026  1427988       432473   \n",
      "278             105630           106525   497190       159174   \n",
      "279             108063           114693   493971       155701   \n",
      "280             106304           116039   507478       157569   \n",
      "281             319997           337257  1498639       472444   \n",
      "282             121865           124179   597320       193608   \n",
      "283             121228           123922   626311       210165   \n",
      "284             110657           121611   545266       170257   \n",
      "285             353750           369712  1768897       574030   \n",
      "286             113169           116629   544140       181221   \n",
      "287             113575           105828   485474       171160   \n",
      "288             121675           116182   502158       185041   \n",
      "289             348419           338639  1531772       537422   \n",
      "290            1365263          1349634  6227296      2016369   \n",
      "291             126959           122767   516877       177586   \n",
      "292             115781           105048   469137       168834   \n",
      "293             122567           112035   525372       197696   \n",
      "\n",
      "     SouthEastAsia_38  NorthEastAsia_39  Oceania_40  \n",
      "274            176454            168188           0  \n",
      "275            151836            156718           0  \n",
      "276            157953            184366           0  \n",
      "277            486243            509272           0  \n",
      "278            140795            197221           0  \n",
      "279            141172            197098           0  \n",
      "280            138453            211456           0  \n",
      "281            420420            605775           0  \n",
      "282            151270            252442           0  \n",
      "283            158591            257555           0  \n",
      "284            143685            231324           0  \n",
      "285            453546            741321           0  \n",
      "286            148016            214903           0  \n",
      "287            146868            167446           0  \n",
      "288            161434            155683           0  \n",
      "289            456318            538032           0  \n",
      "290           1816527           2394400           0  \n",
      "291            163095            176196           0  \n",
      "292            137090            163213           0  \n",
      "293            149813            177863           0  \n",
      "\n",
      "[20 rows x 44 columns]\n",
      "ID                                    489\n",
      "Periods                               489\n",
      "Month                                 489\n",
      "Year                                  489\n",
      "Airport                               489\n",
      "CrossCountryFlights_1                 489\n",
      "TotalFlights_3                        489\n",
      "Scheduled_4                           489\n",
      "NonScheduled_5                        489\n",
      "TotalArrivalsFlights_6                489\n",
      "Scheduled_7                           489\n",
      "NonScheduled_8                        489\n",
      "TotalDeparturesFlights_9              489\n",
      "Scheduled_10                          489\n",
      "NonScheduled_11                       489\n",
      "TotalPassengers_12                    489\n",
      "Scheduled_13                          489\n",
      "NonScheduled_14                       489\n",
      "TotalArrivalsPassengers_15            489\n",
      "Scheduled_16                          489\n",
      "NonScheduled_17                       489\n",
      "TotalDeparturesPassengers_18          489\n",
      "Scheduled_19                          489\n",
      "NonScheduled_20                       489\n",
      "TotalCountryOfOriginDestination_21    489\n",
      "EuropeTotal_22                        489\n",
      "EUCountries_23                        489\n",
      "OtherEurope_24                        489\n",
      "TotalIntercontinentalPassengers_25    489\n",
      "Africa_26                             489\n",
      "NorthAfrica_27                        489\n",
      "WestAfrica_28                         489\n",
      "CentralAfrica_29                      489\n",
      "EastAfrica_30                         489\n",
      "SouthAfrica_31                        489\n",
      "America_32                            489\n",
      "NorthAmerica_33                       489\n",
      "CentralAmerica_34                     489\n",
      "SouthAmerica_35                       489\n",
      "Asia_36                               489\n",
      "WestAsia_37                           489\n",
      "SouthEastAsia_38                      489\n",
      "NorthEastAsia_39                      489\n",
      "Oceania_40                            489\n",
      "dtype: int64\n"
     ]
    }
   ],
   "source": [
    "import pandas as pd\n",
    "import plotly.express as px\n",
    "import matplotlib.pyplot as plt\n",
    "import plotly.io as pio\n",
    "\"\"\"\n",
    "YOU WILL HAVE TO CHANGE THE FILE PATH TO WORK ON THE FILE SO ON EACH COMPUTER, AS THIS IS TO FOR MY COMPUTER.\n",
    "\n",
    "\"\"\"\n",
    "\n",
    "\n",
    "# Define the file path\n",
    "file_path = '/Users/jelletop/Desktop/TIL MSC/YEAR 2/TIL Python/Project/dataset_full.csv'\n",
    "\n",
    "# Read the CSV file\n",
    "df_raw = pd.read_csv(file_path, delimiter=\";\")\n",
    "\n",
    "\"\"\"\n",
    "Leaving some information for the rest of the project:\n",
    "The data is structured so that:\n",
    "\n",
    "Technically you can use the Periods with their code as key: 2015MM01 and \n",
    "use the Month/Year columns for the output parts and visualisation. on the X-axis for example. \n",
    "\n",
    "another thing for the data\n",
    "    -> Each quarter already has sum over the values for the months during the quarter \n",
    "        -> i.e Q1 values = Sum(Januar,feb,March)\n",
    "    -> same goes for the years, as they have summed over the quarters or months (which gives the same results)\n",
    "\n",
    "if you want to do some quarterly values\n",
    "\n",
    "On the other hand, you have for example:\n",
    "    -> Total passengers = sheduled + Non_sheduled\n",
    "        -> As well as Total passengers = Arriving + Departuring \n",
    "    -> Asia = West_Asia + East_asia + North_Asia + South_Asia\n",
    "\n",
    "So you have a lot of breakdown and you can simply pick the columns you want to compare. \n",
    "\n",
    "NEWS = North + East + West + South (funny fact newspaper can be interpreted as north/east/west/south/past/and/present/event report )\n",
    "\n",
    "For europe you only have EU and Non-Eu countries data. Why noth broken into regions idk. \n",
    "(Let's just say Europe is one big family in small island in the report, just how we can treat US as a whole)\n",
    "\"\"\"\n",
    "\n",
    "def preprocessing(df):\n",
    "\n",
    "    #Filter data, so that we work only with Passengers and only for years above 2015(excluding) 2020\n",
    "    df = df.iloc[:, :43]\n",
    "    df = df[ (df['Periods'].str[:4].astype(int) >= 2015)] #add only dates post 2015\n",
    "\n",
    "    # Function to extract year, month, and quarter from the Periods column\n",
    "    def extract_date(period):\n",
    "        #the function returns year, Month, Quarter and since we \n",
    "        #have eiither Month or Quarter, the missing one is set as None\n",
    "\n",
    "        year = period[:4]               # Extract the year\n",
    "        if 'MM' in period:\n",
    "            month = str(period[6:])     # Extract month number for MM format\n",
    "            return year, month, None    \n",
    "        elif 'KW' in period:\n",
    "            quarter = str(period[6:])   # Extract quarter number for KW format\n",
    "            return year, None, quarter  \n",
    "        return year, None, None  \n",
    "\n",
    "    # Create new columns for Year, Month, and Quarter\n",
    "    df[['Year', 'Month_Num', 'Quarter_Num']] = df['Periods'].apply(extract_date).apply(pd.Series)\n",
    "\n",
    "    # Map months to month names\n",
    "    month_names = {\n",
    "        '01': 'January', '02': 'February', '03': 'March', '04': 'April', \n",
    "        '05': 'May', '06': 'June', '07': 'July', '08': 'August', \n",
    "        '09': 'September', '10': 'October', '11': 'November', '12': 'December'\n",
    "    }\n",
    "\n",
    "    # Map quarters to quarter names\n",
    "    quarter_names = {\n",
    "        '01': 'Q1', '02': 'Q2', '03': 'Q3', '04': 'Q4'\n",
    "    }\n",
    "\n",
    "    #Map airports to their airport quarter  \n",
    "    airport_names = {\n",
    "        'A043590':'Amsterdam Schiphol', 'A043596':'Rotterdam','A043591':'Eindhoven'\n",
    "    }\n",
    "\n",
    "    # Further data processing \n",
    "    df['Month'] = df['Month_Num'].map(month_names)\n",
    "    df['Quarter'] = df['Quarter_Num'].map(quarter_names)\n",
    "    df['Airport'] = df['Airports'].map(airport_names)\n",
    "\n",
    "    # fill in the missing data in the column \"month\" with the Quarter or year \n",
    "    df['Month'] = df['Month'].fillna(df['Quarter'])             \n",
    "    df['Month'] = df['Month'].fillna(df['Year']) \n",
    "\n",
    "    df = df.drop('Quarter', axis=1)         #Quarter is no longer needed \n",
    "    # Drop the Month_Num and Quarter_Num columns as they are not needed anymore \n",
    "    df.drop(columns=['Month_Num', 'Quarter_Num'], inplace=True)\n",
    "    df.drop(columns=['Airports'], inplace=True)\n",
    "\n",
    "    #Local flights are not revelant for this project \n",
    "    df.drop(columns=['LocalFlights_2'], inplace=True)\n",
    "\n",
    "    # List of columns to move and the column after which to insert them\n",
    "    cols_to_move = ['Month', 'Year', 'Airport']\n",
    "    insert_after = 'Periods'\n",
    "\n",
    "    # Get the current columns and find the index of 'Period'\n",
    "    cols = list(df.columns)\n",
    "    insert_at = cols.index(insert_after) + 1\n",
    "\n",
    "    # Remove the columns to move from their original positions\n",
    "    for col in cols_to_move:\n",
    "        cols.remove(col)\n",
    "\n",
    "    # Insert the columns after 'Period'\n",
    "    for i, col in enumerate(cols_to_move):\n",
    "        cols.insert(insert_at + i, col)\n",
    "\n",
    "    # Reorder the DataFrame\n",
    "    df = df[cols]\n",
    "\n",
    "    return df\n",
    "\n",
    "df_processesd = preprocessing(df_raw)\n",
    "\n",
    "# Display the updated DataFrame\n",
    "print(df_processesd.head(20))\n",
    "print(df_processesd.count())\n",
    "\n"
   ]
  },
  {
   "cell_type": "code",
   "execution_count": 18,
   "metadata": {},
   "outputs": [
    {
     "data": {
      "application/vnd.plotly.v1+json": {
       "config": {
        "plotlyServerURL": "https://plot.ly"
       },
       "data": [
        {
         "alignmentgroup": "True",
         "hovertemplate": "%{x}: %{y}",
         "legendgroup": "Total passengers",
         "marker": {
          "color": "#636EFA",
          "pattern": {
           "shape": ""
          }
         },
         "name": "Total passengers",
         "offsetgroup": "Total passengers",
         "orientation": "v",
         "showlegend": true,
         "textposition": "auto",
         "type": "bar",
         "x": [
          "2016",
          "2017",
          "2018",
          "2019",
          "2020",
          "2021",
          "2022",
          "2023"
         ],
         "xaxis": "x",
         "y": [
          63526363,
          68400387,
          70956594,
          71679729,
          20884510,
          25490810,
          52470880,
          61887628
         ],
         "yaxis": "y"
        },
        {
         "alignmentgroup": "True",
         "hovertemplate": "%{x}: %{y}",
         "legendgroup": "European passengers",
         "marker": {
          "color": "#EF553B",
          "pattern": {
           "shape": ""
          }
         },
         "name": "European passengers",
         "offsetgroup": "European passengers",
         "orientation": "v",
         "showlegend": true,
         "textposition": "auto",
         "type": "bar",
         "x": [
          "2016",
          "2017",
          "2018",
          "2019",
          "2020",
          "2021",
          "2022",
          "2023"
         ],
         "xaxis": "x",
         "y": [
          45120225,
          48648583,
          49979656,
          50554748,
          15128113,
          18981082,
          37138683,
          43339518
         ],
         "yaxis": "y"
        },
        {
         "alignmentgroup": "True",
         "hovertemplate": "%{x}: %{y}",
         "legendgroup": "Intercontinental passengers",
         "marker": {
          "color": "#00CC96",
          "pattern": {
           "shape": ""
          }
         },
         "name": "Intercontinental passengers",
         "offsetgroup": "Intercontinental passengers",
         "orientation": "v",
         "showlegend": true,
         "textposition": "auto",
         "type": "bar",
         "x": [
          "2016",
          "2017",
          "2018",
          "2019",
          "2020",
          "2021",
          "2022",
          "2023"
         ],
         "xaxis": "x",
         "y": [
          18406138,
          19751804,
          20976938,
          21124981,
          5756397,
          6509728,
          15332197,
          18548110
         ],
         "yaxis": "y"
        }
       ],
       "layout": {
        "barmode": "group",
        "height": 600,
        "legend": {
         "title": {
          "text": "variable"
         },
         "tracegroupgap": 0
        },
        "template": {
         "data": {
          "bar": [
           {
            "error_x": {
             "color": "#2a3f5f"
            },
            "error_y": {
             "color": "#2a3f5f"
            },
            "marker": {
             "line": {
              "color": "#E5ECF6",
              "width": 0.5
             },
             "pattern": {
              "fillmode": "overlay",
              "size": 10,
              "solidity": 0.2
             }
            },
            "type": "bar"
           }
          ],
          "barpolar": [
           {
            "marker": {
             "line": {
              "color": "#E5ECF6",
              "width": 0.5
             },
             "pattern": {
              "fillmode": "overlay",
              "size": 10,
              "solidity": 0.2
             }
            },
            "type": "barpolar"
           }
          ],
          "carpet": [
           {
            "aaxis": {
             "endlinecolor": "#2a3f5f",
             "gridcolor": "white",
             "linecolor": "white",
             "minorgridcolor": "white",
             "startlinecolor": "#2a3f5f"
            },
            "baxis": {
             "endlinecolor": "#2a3f5f",
             "gridcolor": "white",
             "linecolor": "white",
             "minorgridcolor": "white",
             "startlinecolor": "#2a3f5f"
            },
            "type": "carpet"
           }
          ],
          "choropleth": [
           {
            "colorbar": {
             "outlinewidth": 0,
             "ticks": ""
            },
            "type": "choropleth"
           }
          ],
          "contour": [
           {
            "colorbar": {
             "outlinewidth": 0,
             "ticks": ""
            },
            "colorscale": [
             [
              0,
              "#0d0887"
             ],
             [
              0.1111111111111111,
              "#46039f"
             ],
             [
              0.2222222222222222,
              "#7201a8"
             ],
             [
              0.3333333333333333,
              "#9c179e"
             ],
             [
              0.4444444444444444,
              "#bd3786"
             ],
             [
              0.5555555555555556,
              "#d8576b"
             ],
             [
              0.6666666666666666,
              "#ed7953"
             ],
             [
              0.7777777777777778,
              "#fb9f3a"
             ],
             [
              0.8888888888888888,
              "#fdca26"
             ],
             [
              1,
              "#f0f921"
             ]
            ],
            "type": "contour"
           }
          ],
          "contourcarpet": [
           {
            "colorbar": {
             "outlinewidth": 0,
             "ticks": ""
            },
            "type": "contourcarpet"
           }
          ],
          "heatmap": [
           {
            "colorbar": {
             "outlinewidth": 0,
             "ticks": ""
            },
            "colorscale": [
             [
              0,
              "#0d0887"
             ],
             [
              0.1111111111111111,
              "#46039f"
             ],
             [
              0.2222222222222222,
              "#7201a8"
             ],
             [
              0.3333333333333333,
              "#9c179e"
             ],
             [
              0.4444444444444444,
              "#bd3786"
             ],
             [
              0.5555555555555556,
              "#d8576b"
             ],
             [
              0.6666666666666666,
              "#ed7953"
             ],
             [
              0.7777777777777778,
              "#fb9f3a"
             ],
             [
              0.8888888888888888,
              "#fdca26"
             ],
             [
              1,
              "#f0f921"
             ]
            ],
            "type": "heatmap"
           }
          ],
          "heatmapgl": [
           {
            "colorbar": {
             "outlinewidth": 0,
             "ticks": ""
            },
            "colorscale": [
             [
              0,
              "#0d0887"
             ],
             [
              0.1111111111111111,
              "#46039f"
             ],
             [
              0.2222222222222222,
              "#7201a8"
             ],
             [
              0.3333333333333333,
              "#9c179e"
             ],
             [
              0.4444444444444444,
              "#bd3786"
             ],
             [
              0.5555555555555556,
              "#d8576b"
             ],
             [
              0.6666666666666666,
              "#ed7953"
             ],
             [
              0.7777777777777778,
              "#fb9f3a"
             ],
             [
              0.8888888888888888,
              "#fdca26"
             ],
             [
              1,
              "#f0f921"
             ]
            ],
            "type": "heatmapgl"
           }
          ],
          "histogram": [
           {
            "marker": {
             "pattern": {
              "fillmode": "overlay",
              "size": 10,
              "solidity": 0.2
             }
            },
            "type": "histogram"
           }
          ],
          "histogram2d": [
           {
            "colorbar": {
             "outlinewidth": 0,
             "ticks": ""
            },
            "colorscale": [
             [
              0,
              "#0d0887"
             ],
             [
              0.1111111111111111,
              "#46039f"
             ],
             [
              0.2222222222222222,
              "#7201a8"
             ],
             [
              0.3333333333333333,
              "#9c179e"
             ],
             [
              0.4444444444444444,
              "#bd3786"
             ],
             [
              0.5555555555555556,
              "#d8576b"
             ],
             [
              0.6666666666666666,
              "#ed7953"
             ],
             [
              0.7777777777777778,
              "#fb9f3a"
             ],
             [
              0.8888888888888888,
              "#fdca26"
             ],
             [
              1,
              "#f0f921"
             ]
            ],
            "type": "histogram2d"
           }
          ],
          "histogram2dcontour": [
           {
            "colorbar": {
             "outlinewidth": 0,
             "ticks": ""
            },
            "colorscale": [
             [
              0,
              "#0d0887"
             ],
             [
              0.1111111111111111,
              "#46039f"
             ],
             [
              0.2222222222222222,
              "#7201a8"
             ],
             [
              0.3333333333333333,
              "#9c179e"
             ],
             [
              0.4444444444444444,
              "#bd3786"
             ],
             [
              0.5555555555555556,
              "#d8576b"
             ],
             [
              0.6666666666666666,
              "#ed7953"
             ],
             [
              0.7777777777777778,
              "#fb9f3a"
             ],
             [
              0.8888888888888888,
              "#fdca26"
             ],
             [
              1,
              "#f0f921"
             ]
            ],
            "type": "histogram2dcontour"
           }
          ],
          "mesh3d": [
           {
            "colorbar": {
             "outlinewidth": 0,
             "ticks": ""
            },
            "type": "mesh3d"
           }
          ],
          "parcoords": [
           {
            "line": {
             "colorbar": {
              "outlinewidth": 0,
              "ticks": ""
             }
            },
            "type": "parcoords"
           }
          ],
          "pie": [
           {
            "automargin": true,
            "type": "pie"
           }
          ],
          "scatter": [
           {
            "fillpattern": {
             "fillmode": "overlay",
             "size": 10,
             "solidity": 0.2
            },
            "type": "scatter"
           }
          ],
          "scatter3d": [
           {
            "line": {
             "colorbar": {
              "outlinewidth": 0,
              "ticks": ""
             }
            },
            "marker": {
             "colorbar": {
              "outlinewidth": 0,
              "ticks": ""
             }
            },
            "type": "scatter3d"
           }
          ],
          "scattercarpet": [
           {
            "marker": {
             "colorbar": {
              "outlinewidth": 0,
              "ticks": ""
             }
            },
            "type": "scattercarpet"
           }
          ],
          "scattergeo": [
           {
            "marker": {
             "colorbar": {
              "outlinewidth": 0,
              "ticks": ""
             }
            },
            "type": "scattergeo"
           }
          ],
          "scattergl": [
           {
            "marker": {
             "colorbar": {
              "outlinewidth": 0,
              "ticks": ""
             }
            },
            "type": "scattergl"
           }
          ],
          "scattermapbox": [
           {
            "marker": {
             "colorbar": {
              "outlinewidth": 0,
              "ticks": ""
             }
            },
            "type": "scattermapbox"
           }
          ],
          "scatterpolar": [
           {
            "marker": {
             "colorbar": {
              "outlinewidth": 0,
              "ticks": ""
             }
            },
            "type": "scatterpolar"
           }
          ],
          "scatterpolargl": [
           {
            "marker": {
             "colorbar": {
              "outlinewidth": 0,
              "ticks": ""
             }
            },
            "type": "scatterpolargl"
           }
          ],
          "scatterternary": [
           {
            "marker": {
             "colorbar": {
              "outlinewidth": 0,
              "ticks": ""
             }
            },
            "type": "scatterternary"
           }
          ],
          "surface": [
           {
            "colorbar": {
             "outlinewidth": 0,
             "ticks": ""
            },
            "colorscale": [
             [
              0,
              "#0d0887"
             ],
             [
              0.1111111111111111,
              "#46039f"
             ],
             [
              0.2222222222222222,
              "#7201a8"
             ],
             [
              0.3333333333333333,
              "#9c179e"
             ],
             [
              0.4444444444444444,
              "#bd3786"
             ],
             [
              0.5555555555555556,
              "#d8576b"
             ],
             [
              0.6666666666666666,
              "#ed7953"
             ],
             [
              0.7777777777777778,
              "#fb9f3a"
             ],
             [
              0.8888888888888888,
              "#fdca26"
             ],
             [
              1,
              "#f0f921"
             ]
            ],
            "type": "surface"
           }
          ],
          "table": [
           {
            "cells": {
             "fill": {
              "color": "#EBF0F8"
             },
             "line": {
              "color": "white"
             }
            },
            "header": {
             "fill": {
              "color": "#C8D4E3"
             },
             "line": {
              "color": "white"
             }
            },
            "type": "table"
           }
          ]
         },
         "layout": {
          "annotationdefaults": {
           "arrowcolor": "#2a3f5f",
           "arrowhead": 0,
           "arrowwidth": 1
          },
          "autotypenumbers": "strict",
          "coloraxis": {
           "colorbar": {
            "outlinewidth": 0,
            "ticks": ""
           }
          },
          "colorscale": {
           "diverging": [
            [
             0,
             "#8e0152"
            ],
            [
             0.1,
             "#c51b7d"
            ],
            [
             0.2,
             "#de77ae"
            ],
            [
             0.3,
             "#f1b6da"
            ],
            [
             0.4,
             "#fde0ef"
            ],
            [
             0.5,
             "#f7f7f7"
            ],
            [
             0.6,
             "#e6f5d0"
            ],
            [
             0.7,
             "#b8e186"
            ],
            [
             0.8,
             "#7fbc41"
            ],
            [
             0.9,
             "#4d9221"
            ],
            [
             1,
             "#276419"
            ]
           ],
           "sequential": [
            [
             0,
             "#0d0887"
            ],
            [
             0.1111111111111111,
             "#46039f"
            ],
            [
             0.2222222222222222,
             "#7201a8"
            ],
            [
             0.3333333333333333,
             "#9c179e"
            ],
            [
             0.4444444444444444,
             "#bd3786"
            ],
            [
             0.5555555555555556,
             "#d8576b"
            ],
            [
             0.6666666666666666,
             "#ed7953"
            ],
            [
             0.7777777777777778,
             "#fb9f3a"
            ],
            [
             0.8888888888888888,
             "#fdca26"
            ],
            [
             1,
             "#f0f921"
            ]
           ],
           "sequentialminus": [
            [
             0,
             "#0d0887"
            ],
            [
             0.1111111111111111,
             "#46039f"
            ],
            [
             0.2222222222222222,
             "#7201a8"
            ],
            [
             0.3333333333333333,
             "#9c179e"
            ],
            [
             0.4444444444444444,
             "#bd3786"
            ],
            [
             0.5555555555555556,
             "#d8576b"
            ],
            [
             0.6666666666666666,
             "#ed7953"
            ],
            [
             0.7777777777777778,
             "#fb9f3a"
            ],
            [
             0.8888888888888888,
             "#fdca26"
            ],
            [
             1,
             "#f0f921"
            ]
           ]
          },
          "colorway": [
           "#636efa",
           "#EF553B",
           "#00cc96",
           "#ab63fa",
           "#FFA15A",
           "#19d3f3",
           "#FF6692",
           "#B6E880",
           "#FF97FF",
           "#FECB52"
          ],
          "font": {
           "color": "#2a3f5f"
          },
          "geo": {
           "bgcolor": "white",
           "lakecolor": "white",
           "landcolor": "#E5ECF6",
           "showlakes": true,
           "showland": true,
           "subunitcolor": "white"
          },
          "hoverlabel": {
           "align": "left"
          },
          "hovermode": "closest",
          "mapbox": {
           "style": "light"
          },
          "paper_bgcolor": "white",
          "plot_bgcolor": "#E5ECF6",
          "polar": {
           "angularaxis": {
            "gridcolor": "white",
            "linecolor": "white",
            "ticks": ""
           },
           "bgcolor": "#E5ECF6",
           "radialaxis": {
            "gridcolor": "white",
            "linecolor": "white",
            "ticks": ""
           }
          },
          "scene": {
           "xaxis": {
            "backgroundcolor": "#E5ECF6",
            "gridcolor": "white",
            "gridwidth": 2,
            "linecolor": "white",
            "showbackground": true,
            "ticks": "",
            "zerolinecolor": "white"
           },
           "yaxis": {
            "backgroundcolor": "#E5ECF6",
            "gridcolor": "white",
            "gridwidth": 2,
            "linecolor": "white",
            "showbackground": true,
            "ticks": "",
            "zerolinecolor": "white"
           },
           "zaxis": {
            "backgroundcolor": "#E5ECF6",
            "gridcolor": "white",
            "gridwidth": 2,
            "linecolor": "white",
            "showbackground": true,
            "ticks": "",
            "zerolinecolor": "white"
           }
          },
          "shapedefaults": {
           "line": {
            "color": "#2a3f5f"
           }
          },
          "ternary": {
           "aaxis": {
            "gridcolor": "white",
            "linecolor": "white",
            "ticks": ""
           },
           "baxis": {
            "gridcolor": "white",
            "linecolor": "white",
            "ticks": ""
           },
           "bgcolor": "#E5ECF6",
           "caxis": {
            "gridcolor": "white",
            "linecolor": "white",
            "ticks": ""
           }
          },
          "title": {
           "x": 0.05
          },
          "xaxis": {
           "automargin": true,
           "gridcolor": "white",
           "linecolor": "white",
           "ticks": "",
           "title": {
            "standoff": 15
           },
           "zerolinecolor": "white",
           "zerolinewidth": 2
          },
          "yaxis": {
           "automargin": true,
           "gridcolor": "white",
           "linecolor": "white",
           "ticks": "",
           "title": {
            "standoff": 15
           },
           "zerolinecolor": "white",
           "zerolinewidth": 2
          }
         }
        },
        "title": {
         "text": "Yearly Total Passenger Numbers for Amsterdam Schiphol"
        },
        "xaxis": {
         "anchor": "y",
         "domain": [
          0,
          1
         ],
         "title": {
          "text": "Year"
         }
        },
        "yaxis": {
         "anchor": "x",
         "domain": [
          0,
          1
         ],
         "title": {
          "text": "Number of Passengers"
         }
        }
       }
      }
     },
     "metadata": {},
     "output_type": "display_data"
    }
   ],
   "source": [
    "# VISUALIZE PASSENGER NUMBER TRENDS INTERNATIONAL VS INTERCONTINENTAL PRE/POST COVID - ALSO TOTAL PASSENGER NUMBERS ARE INCLUDED\n",
    "\n",
    "def difference_passenger_numbers(df):\n",
    "    airports = [\"Amsterdam Schiphol\"]  # Filter on only Amsterdam Schiphol\n",
    "    df_filtered = df.loc[\n",
    "        (df[\"Airport\"].isin(airports)) & \n",
    "        (df[\"Periods\"].str.contains(r\"\\d{4}JJ00\")) & \n",
    "        (df[\"Year\"].astype(int).isin([2016, 2017, 2018, 2019, 2020, 2021, 2022, 2023, 2024]))\n",
    "    ].copy()  # Filter rows\n",
    "\n",
    "    # Convert relevant columns to numeric, filling NaNs\n",
    "    df_filtered[\"TotalCountryOfOriginDestination_21\"] = pd.to_numeric(df_filtered[\"TotalCountryOfOriginDestination_21\"], errors=\"coerce\").fillna(0)\n",
    "    df_filtered[\"EuropeTotal_22\"] = pd.to_numeric(df_filtered[\"EuropeTotal_22\"], errors=\"coerce\").fillna(0)\n",
    "    df_filtered[\"TotalIntercontinentalPassengers_25\"] = pd.to_numeric(df_filtered[\"TotalIntercontinentalPassengers_25\"], errors=\"coerce\").fillna(0)\n",
    "    \n",
    "    # Group data by Year and sum relevant columns\n",
    "    df_grouped = df_filtered.groupby(\"Year\")[\n",
    "        [\"TotalCountryOfOriginDestination_21\", \"EuropeTotal_22\", \"TotalIntercontinentalPassengers_25\"]\n",
    "    ].sum().reset_index()\n",
    "\n",
    "    # Rename columns to reflect the legend changes\n",
    "    df_grouped = df_grouped.rename(columns={\n",
    "        \"TotalCountryOfOriginDestination_21\": \"Total passengers\",\n",
    "        \"EuropeTotal_22\": \"European passengers\",\n",
    "        \"TotalIntercontinentalPassengers_25\": \"Intercontinental passengers\"\n",
    "    })\n",
    "\n",
    "    # Create a grouped bar chart to show all three categories separately\n",
    "    fig = px.bar(df_grouped, \n",
    "                 x=\"Year\", \n",
    "                 y=[\"Total passengers\", \"European passengers\", \"Intercontinental passengers\"], \n",
    "                 color_discrete_sequence=[\"#636EFA\", \"#EF553B\", \"#00CC96\"],\n",
    "                 labels={\"value\": \"Number of Passengers\", \"Year\": \"Year\"}, \n",
    "                 title=\"Yearly Total Passenger Numbers for Amsterdam Schiphol\",\n",
    "                 barmode=\"group\",  # Group the bars\n",
    "                 height=600)\n",
    "\n",
    "    # Customize hover data to show totals and individual segments\n",
    "    fig.update_traces(hovertemplate='%{x}: %{y}')\n",
    "    fig.update_layout(barmode='group')\n",
    "\n",
    "    fig.show()\n",
    "\n",
    "# Assuming df_processed is already loaded\n",
    "difference_passenger_numbers(df_processesd)\n"
   ]
  },
  {
   "cell_type": "code",
   "execution_count": 19,
   "metadata": {},
   "outputs": [
    {
     "data": {
      "application/vnd.plotly.v1+json": {
       "config": {
        "plotlyServerURL": "https://plot.ly"
       },
       "data": [
        {
         "hovertemplate": "variable=European passengers<br>Year=%{x}<br>Number of Passengers=%{y}<extra></extra>",
         "legendgroup": "European passengers",
         "line": {
          "color": "#636efa",
          "dash": "solid"
         },
         "marker": {
          "symbol": "circle"
         },
         "mode": "lines+markers",
         "name": "European passengers",
         "orientation": "v",
         "showlegend": true,
         "type": "scatter",
         "x": [
          "2016",
          "2017",
          "2018",
          "2019",
          "2020",
          "2021",
          "2022",
          "2023"
         ],
         "xaxis": "x",
         "y": [
          45120225,
          48648583,
          49979656,
          50554748,
          15128113,
          18981082,
          37138683,
          43339518
         ],
         "yaxis": "y"
        },
        {
         "hovertemplate": "variable=Intercontinental passengers<br>Year=%{x}<br>Number of Passengers=%{y}<extra></extra>",
         "legendgroup": "Intercontinental passengers",
         "line": {
          "color": "#EF553B",
          "dash": "solid"
         },
         "marker": {
          "symbol": "circle"
         },
         "mode": "lines+markers",
         "name": "Intercontinental passengers",
         "orientation": "v",
         "showlegend": true,
         "type": "scatter",
         "x": [
          "2016",
          "2017",
          "2018",
          "2019",
          "2020",
          "2021",
          "2022",
          "2023"
         ],
         "xaxis": "x",
         "y": [
          18406138,
          19751804,
          20976938,
          21124981,
          5756397,
          6509728,
          15332197,
          18548110
         ],
         "yaxis": "y"
        }
       ],
       "layout": {
        "legend": {
         "title": {
          "text": "Passenger Types"
         },
         "tracegroupgap": 0
        },
        "template": {
         "data": {
          "bar": [
           {
            "error_x": {
             "color": "#2a3f5f"
            },
            "error_y": {
             "color": "#2a3f5f"
            },
            "marker": {
             "line": {
              "color": "#E5ECF6",
              "width": 0.5
             },
             "pattern": {
              "fillmode": "overlay",
              "size": 10,
              "solidity": 0.2
             }
            },
            "type": "bar"
           }
          ],
          "barpolar": [
           {
            "marker": {
             "line": {
              "color": "#E5ECF6",
              "width": 0.5
             },
             "pattern": {
              "fillmode": "overlay",
              "size": 10,
              "solidity": 0.2
             }
            },
            "type": "barpolar"
           }
          ],
          "carpet": [
           {
            "aaxis": {
             "endlinecolor": "#2a3f5f",
             "gridcolor": "white",
             "linecolor": "white",
             "minorgridcolor": "white",
             "startlinecolor": "#2a3f5f"
            },
            "baxis": {
             "endlinecolor": "#2a3f5f",
             "gridcolor": "white",
             "linecolor": "white",
             "minorgridcolor": "white",
             "startlinecolor": "#2a3f5f"
            },
            "type": "carpet"
           }
          ],
          "choropleth": [
           {
            "colorbar": {
             "outlinewidth": 0,
             "ticks": ""
            },
            "type": "choropleth"
           }
          ],
          "contour": [
           {
            "colorbar": {
             "outlinewidth": 0,
             "ticks": ""
            },
            "colorscale": [
             [
              0,
              "#0d0887"
             ],
             [
              0.1111111111111111,
              "#46039f"
             ],
             [
              0.2222222222222222,
              "#7201a8"
             ],
             [
              0.3333333333333333,
              "#9c179e"
             ],
             [
              0.4444444444444444,
              "#bd3786"
             ],
             [
              0.5555555555555556,
              "#d8576b"
             ],
             [
              0.6666666666666666,
              "#ed7953"
             ],
             [
              0.7777777777777778,
              "#fb9f3a"
             ],
             [
              0.8888888888888888,
              "#fdca26"
             ],
             [
              1,
              "#f0f921"
             ]
            ],
            "type": "contour"
           }
          ],
          "contourcarpet": [
           {
            "colorbar": {
             "outlinewidth": 0,
             "ticks": ""
            },
            "type": "contourcarpet"
           }
          ],
          "heatmap": [
           {
            "colorbar": {
             "outlinewidth": 0,
             "ticks": ""
            },
            "colorscale": [
             [
              0,
              "#0d0887"
             ],
             [
              0.1111111111111111,
              "#46039f"
             ],
             [
              0.2222222222222222,
              "#7201a8"
             ],
             [
              0.3333333333333333,
              "#9c179e"
             ],
             [
              0.4444444444444444,
              "#bd3786"
             ],
             [
              0.5555555555555556,
              "#d8576b"
             ],
             [
              0.6666666666666666,
              "#ed7953"
             ],
             [
              0.7777777777777778,
              "#fb9f3a"
             ],
             [
              0.8888888888888888,
              "#fdca26"
             ],
             [
              1,
              "#f0f921"
             ]
            ],
            "type": "heatmap"
           }
          ],
          "heatmapgl": [
           {
            "colorbar": {
             "outlinewidth": 0,
             "ticks": ""
            },
            "colorscale": [
             [
              0,
              "#0d0887"
             ],
             [
              0.1111111111111111,
              "#46039f"
             ],
             [
              0.2222222222222222,
              "#7201a8"
             ],
             [
              0.3333333333333333,
              "#9c179e"
             ],
             [
              0.4444444444444444,
              "#bd3786"
             ],
             [
              0.5555555555555556,
              "#d8576b"
             ],
             [
              0.6666666666666666,
              "#ed7953"
             ],
             [
              0.7777777777777778,
              "#fb9f3a"
             ],
             [
              0.8888888888888888,
              "#fdca26"
             ],
             [
              1,
              "#f0f921"
             ]
            ],
            "type": "heatmapgl"
           }
          ],
          "histogram": [
           {
            "marker": {
             "pattern": {
              "fillmode": "overlay",
              "size": 10,
              "solidity": 0.2
             }
            },
            "type": "histogram"
           }
          ],
          "histogram2d": [
           {
            "colorbar": {
             "outlinewidth": 0,
             "ticks": ""
            },
            "colorscale": [
             [
              0,
              "#0d0887"
             ],
             [
              0.1111111111111111,
              "#46039f"
             ],
             [
              0.2222222222222222,
              "#7201a8"
             ],
             [
              0.3333333333333333,
              "#9c179e"
             ],
             [
              0.4444444444444444,
              "#bd3786"
             ],
             [
              0.5555555555555556,
              "#d8576b"
             ],
             [
              0.6666666666666666,
              "#ed7953"
             ],
             [
              0.7777777777777778,
              "#fb9f3a"
             ],
             [
              0.8888888888888888,
              "#fdca26"
             ],
             [
              1,
              "#f0f921"
             ]
            ],
            "type": "histogram2d"
           }
          ],
          "histogram2dcontour": [
           {
            "colorbar": {
             "outlinewidth": 0,
             "ticks": ""
            },
            "colorscale": [
             [
              0,
              "#0d0887"
             ],
             [
              0.1111111111111111,
              "#46039f"
             ],
             [
              0.2222222222222222,
              "#7201a8"
             ],
             [
              0.3333333333333333,
              "#9c179e"
             ],
             [
              0.4444444444444444,
              "#bd3786"
             ],
             [
              0.5555555555555556,
              "#d8576b"
             ],
             [
              0.6666666666666666,
              "#ed7953"
             ],
             [
              0.7777777777777778,
              "#fb9f3a"
             ],
             [
              0.8888888888888888,
              "#fdca26"
             ],
             [
              1,
              "#f0f921"
             ]
            ],
            "type": "histogram2dcontour"
           }
          ],
          "mesh3d": [
           {
            "colorbar": {
             "outlinewidth": 0,
             "ticks": ""
            },
            "type": "mesh3d"
           }
          ],
          "parcoords": [
           {
            "line": {
             "colorbar": {
              "outlinewidth": 0,
              "ticks": ""
             }
            },
            "type": "parcoords"
           }
          ],
          "pie": [
           {
            "automargin": true,
            "type": "pie"
           }
          ],
          "scatter": [
           {
            "fillpattern": {
             "fillmode": "overlay",
             "size": 10,
             "solidity": 0.2
            },
            "type": "scatter"
           }
          ],
          "scatter3d": [
           {
            "line": {
             "colorbar": {
              "outlinewidth": 0,
              "ticks": ""
             }
            },
            "marker": {
             "colorbar": {
              "outlinewidth": 0,
              "ticks": ""
             }
            },
            "type": "scatter3d"
           }
          ],
          "scattercarpet": [
           {
            "marker": {
             "colorbar": {
              "outlinewidth": 0,
              "ticks": ""
             }
            },
            "type": "scattercarpet"
           }
          ],
          "scattergeo": [
           {
            "marker": {
             "colorbar": {
              "outlinewidth": 0,
              "ticks": ""
             }
            },
            "type": "scattergeo"
           }
          ],
          "scattergl": [
           {
            "marker": {
             "colorbar": {
              "outlinewidth": 0,
              "ticks": ""
             }
            },
            "type": "scattergl"
           }
          ],
          "scattermapbox": [
           {
            "marker": {
             "colorbar": {
              "outlinewidth": 0,
              "ticks": ""
             }
            },
            "type": "scattermapbox"
           }
          ],
          "scatterpolar": [
           {
            "marker": {
             "colorbar": {
              "outlinewidth": 0,
              "ticks": ""
             }
            },
            "type": "scatterpolar"
           }
          ],
          "scatterpolargl": [
           {
            "marker": {
             "colorbar": {
              "outlinewidth": 0,
              "ticks": ""
             }
            },
            "type": "scatterpolargl"
           }
          ],
          "scatterternary": [
           {
            "marker": {
             "colorbar": {
              "outlinewidth": 0,
              "ticks": ""
             }
            },
            "type": "scatterternary"
           }
          ],
          "surface": [
           {
            "colorbar": {
             "outlinewidth": 0,
             "ticks": ""
            },
            "colorscale": [
             [
              0,
              "#0d0887"
             ],
             [
              0.1111111111111111,
              "#46039f"
             ],
             [
              0.2222222222222222,
              "#7201a8"
             ],
             [
              0.3333333333333333,
              "#9c179e"
             ],
             [
              0.4444444444444444,
              "#bd3786"
             ],
             [
              0.5555555555555556,
              "#d8576b"
             ],
             [
              0.6666666666666666,
              "#ed7953"
             ],
             [
              0.7777777777777778,
              "#fb9f3a"
             ],
             [
              0.8888888888888888,
              "#fdca26"
             ],
             [
              1,
              "#f0f921"
             ]
            ],
            "type": "surface"
           }
          ],
          "table": [
           {
            "cells": {
             "fill": {
              "color": "#EBF0F8"
             },
             "line": {
              "color": "white"
             }
            },
            "header": {
             "fill": {
              "color": "#C8D4E3"
             },
             "line": {
              "color": "white"
             }
            },
            "type": "table"
           }
          ]
         },
         "layout": {
          "annotationdefaults": {
           "arrowcolor": "#2a3f5f",
           "arrowhead": 0,
           "arrowwidth": 1
          },
          "autotypenumbers": "strict",
          "coloraxis": {
           "colorbar": {
            "outlinewidth": 0,
            "ticks": ""
           }
          },
          "colorscale": {
           "diverging": [
            [
             0,
             "#8e0152"
            ],
            [
             0.1,
             "#c51b7d"
            ],
            [
             0.2,
             "#de77ae"
            ],
            [
             0.3,
             "#f1b6da"
            ],
            [
             0.4,
             "#fde0ef"
            ],
            [
             0.5,
             "#f7f7f7"
            ],
            [
             0.6,
             "#e6f5d0"
            ],
            [
             0.7,
             "#b8e186"
            ],
            [
             0.8,
             "#7fbc41"
            ],
            [
             0.9,
             "#4d9221"
            ],
            [
             1,
             "#276419"
            ]
           ],
           "sequential": [
            [
             0,
             "#0d0887"
            ],
            [
             0.1111111111111111,
             "#46039f"
            ],
            [
             0.2222222222222222,
             "#7201a8"
            ],
            [
             0.3333333333333333,
             "#9c179e"
            ],
            [
             0.4444444444444444,
             "#bd3786"
            ],
            [
             0.5555555555555556,
             "#d8576b"
            ],
            [
             0.6666666666666666,
             "#ed7953"
            ],
            [
             0.7777777777777778,
             "#fb9f3a"
            ],
            [
             0.8888888888888888,
             "#fdca26"
            ],
            [
             1,
             "#f0f921"
            ]
           ],
           "sequentialminus": [
            [
             0,
             "#0d0887"
            ],
            [
             0.1111111111111111,
             "#46039f"
            ],
            [
             0.2222222222222222,
             "#7201a8"
            ],
            [
             0.3333333333333333,
             "#9c179e"
            ],
            [
             0.4444444444444444,
             "#bd3786"
            ],
            [
             0.5555555555555556,
             "#d8576b"
            ],
            [
             0.6666666666666666,
             "#ed7953"
            ],
            [
             0.7777777777777778,
             "#fb9f3a"
            ],
            [
             0.8888888888888888,
             "#fdca26"
            ],
            [
             1,
             "#f0f921"
            ]
           ]
          },
          "colorway": [
           "#636efa",
           "#EF553B",
           "#00cc96",
           "#ab63fa",
           "#FFA15A",
           "#19d3f3",
           "#FF6692",
           "#B6E880",
           "#FF97FF",
           "#FECB52"
          ],
          "font": {
           "color": "#2a3f5f"
          },
          "geo": {
           "bgcolor": "white",
           "lakecolor": "white",
           "landcolor": "#E5ECF6",
           "showlakes": true,
           "showland": true,
           "subunitcolor": "white"
          },
          "hoverlabel": {
           "align": "left"
          },
          "hovermode": "closest",
          "mapbox": {
           "style": "light"
          },
          "paper_bgcolor": "white",
          "plot_bgcolor": "#E5ECF6",
          "polar": {
           "angularaxis": {
            "gridcolor": "white",
            "linecolor": "white",
            "ticks": ""
           },
           "bgcolor": "#E5ECF6",
           "radialaxis": {
            "gridcolor": "white",
            "linecolor": "white",
            "ticks": ""
           }
          },
          "scene": {
           "xaxis": {
            "backgroundcolor": "#E5ECF6",
            "gridcolor": "white",
            "gridwidth": 2,
            "linecolor": "white",
            "showbackground": true,
            "ticks": "",
            "zerolinecolor": "white"
           },
           "yaxis": {
            "backgroundcolor": "#E5ECF6",
            "gridcolor": "white",
            "gridwidth": 2,
            "linecolor": "white",
            "showbackground": true,
            "ticks": "",
            "zerolinecolor": "white"
           },
           "zaxis": {
            "backgroundcolor": "#E5ECF6",
            "gridcolor": "white",
            "gridwidth": 2,
            "linecolor": "white",
            "showbackground": true,
            "ticks": "",
            "zerolinecolor": "white"
           }
          },
          "shapedefaults": {
           "line": {
            "color": "#2a3f5f"
           }
          },
          "ternary": {
           "aaxis": {
            "gridcolor": "white",
            "linecolor": "white",
            "ticks": ""
           },
           "baxis": {
            "gridcolor": "white",
            "linecolor": "white",
            "ticks": ""
           },
           "bgcolor": "#E5ECF6",
           "caxis": {
            "gridcolor": "white",
            "linecolor": "white",
            "ticks": ""
           }
          },
          "title": {
           "x": 0.05
          },
          "xaxis": {
           "automargin": true,
           "gridcolor": "white",
           "linecolor": "white",
           "ticks": "",
           "title": {
            "standoff": 15
           },
           "zerolinecolor": "white",
           "zerolinewidth": 2
          },
          "yaxis": {
           "automargin": true,
           "gridcolor": "white",
           "linecolor": "white",
           "ticks": "",
           "title": {
            "standoff": 15
           },
           "zerolinecolor": "white",
           "zerolinewidth": 2
          }
         }
        },
        "title": {
         "text": "Intercontinental vs European Passenger Numbers for Amsterdam Schiphol"
        },
        "xaxis": {
         "anchor": "y",
         "domain": [
          0,
          1
         ],
         "title": {
          "text": "Year"
         }
        },
        "yaxis": {
         "anchor": "x",
         "domain": [
          0,
          1
         ],
         "title": {
          "text": "Number of Passengers"
         }
        }
       }
      }
     },
     "metadata": {},
     "output_type": "display_data"
    }
   ],
   "source": [
    "# VISUALIZE PASSENGER NUMBER TRENDS INTERNATIONAL VS INTERCONTINENTAL PRE/POST COVID\n",
    "\n",
    "def create_line_graph(df):\n",
    "    airports = [\"Amsterdam Schiphol\"]  # Filter on only Amsterdam Schiphol\n",
    "    df_filtered = df.loc[\n",
    "        (df[\"Airport\"].isin(airports)) & \n",
    "        (df[\"Periods\"].str.contains(r\"\\d{4}JJ00\")) & \n",
    "        (df[\"Year\"].astype(int).isin([2016, 2017, 2018, 2019, 2020, 2021, 2022, 2023, 2024]))\n",
    "    ].copy()  # Filter rows\n",
    "\n",
    "    # Convert columns to numeric, filling NaNs\n",
    "    df_filtered[\"EuropeTotal_22\"] = pd.to_numeric(df_filtered[\"EuropeTotal_22\"], errors=\"coerce\").fillna(0)\n",
    "    df_filtered[\"TotalIntercontinentalPassengers_25\"] = pd.to_numeric(df_filtered[\"TotalIntercontinentalPassengers_25\"], errors=\"coerce\").fillna(0)\n",
    "\n",
    "    # Group data by Year and Airport, then sum values\n",
    "    df_grouped = df_filtered.groupby([\"Year\"])[\n",
    "        [\"EuropeTotal_22\", \"TotalIntercontinentalPassengers_25\"]\n",
    "    ].sum().reset_index()\n",
    "\n",
    "    # Rename columns for better legend labels\n",
    "    df_grouped = df_grouped.rename(columns={\n",
    "        \"EuropeTotal_22\": \"European passengers\",\n",
    "        \"TotalIntercontinentalPassengers_25\": \"Intercontinental passengers\"\n",
    "    })\n",
    "\n",
    "    # Create a line graph comparing European and Intercontinental passengers\n",
    "    fig = px.line(df_grouped, \n",
    "                  x=\"Year\", \n",
    "                  y=[\"European passengers\", \"Intercontinental passengers\"],\n",
    "                  labels={\"value\": \"Number of Passengers\", \"Year\": \"Year\"},\n",
    "                  title=\"Intercontinental vs European Passenger Numbers for Amsterdam Schiphol\",\n",
    "                  markers=True)  # Add markers for each point\n",
    "\n",
    "    # Customize layout and trace appearance\n",
    "    fig.update_traces(mode='lines+markers')\n",
    "    fig.update_layout(legend_title_text='Passenger Types')\n",
    "\n",
    "    fig.show()\n",
    "\n",
    "# Assuming df_processed is already loaded\n",
    "create_line_graph(df_processesd)\n"
   ]
  }
 ],
 "metadata": {
  "kernelspec": {
   "display_name": "TIL6022",
   "language": "python",
   "name": "python3"
  },
  "language_info": {
   "codemirror_mode": {
    "name": "ipython",
    "version": 3
   },
   "file_extension": ".py",
   "mimetype": "text/x-python",
   "name": "python",
   "nbconvert_exporter": "python",
   "pygments_lexer": "ipython3",
   "version": "3.12.5"
  }
 },
 "nbformat": 4,
 "nbformat_minor": 2
}
